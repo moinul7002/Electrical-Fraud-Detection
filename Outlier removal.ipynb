{
 "cells": [
  {
   "cell_type": "code",
   "execution_count": 1,
   "id": "cc45607e",
   "metadata": {},
   "outputs": [],
   "source": [
    "import pandas as pd\n",
    "import numpy as np\n",
    "import matplotlib.pyplot as plt\n",
    "import seaborn as sns"
   ]
  },
  {
   "cell_type": "code",
   "execution_count": 2,
   "id": "e5fdddfc",
   "metadata": {},
   "outputs": [],
   "source": [
    "dataset = pd.read_csv(\"preprocessed_dataset.csv\")"
   ]
  },
  {
   "cell_type": "code",
   "execution_count": 3,
   "id": "76a15d73",
   "metadata": {},
   "outputs": [
    {
     "data": {
      "text/html": [
       "<div>\n",
       "<style scoped>\n",
       "    .dataframe tbody tr th:only-of-type {\n",
       "        vertical-align: middle;\n",
       "    }\n",
       "\n",
       "    .dataframe tbody tr th {\n",
       "        vertical-align: top;\n",
       "    }\n",
       "\n",
       "    .dataframe thead th {\n",
       "        text-align: right;\n",
       "    }\n",
       "</style>\n",
       "<table border=\"1\" class=\"dataframe\">\n",
       "  <thead>\n",
       "    <tr style=\"text-align: right;\">\n",
       "      <th></th>\n",
       "      <th>disrict</th>\n",
       "      <th>client_catg</th>\n",
       "      <th>region</th>\n",
       "      <th>region_group</th>\n",
       "      <th>coop_time</th>\n",
       "      <th>is_weekday_mean</th>\n",
       "      <th>transactions_count</th>\n",
       "      <th>tarif_type_mean</th>\n",
       "      <th>tarif_type_std</th>\n",
       "      <th>tarif_type_min</th>\n",
       "      <th>...</th>\n",
       "      <th>months_number_max_mean</th>\n",
       "      <th>counter_type_range</th>\n",
       "      <th>counter_type_max_mean</th>\n",
       "      <th>invoice_month_range</th>\n",
       "      <th>invoice_month_max_mean</th>\n",
       "      <th>invoice_year_range</th>\n",
       "      <th>invoice_year_max_mean</th>\n",
       "      <th>delta_index_range</th>\n",
       "      <th>delta_index_max_mean</th>\n",
       "      <th>target</th>\n",
       "    </tr>\n",
       "  </thead>\n",
       "  <tbody>\n",
       "    <tr>\n",
       "      <th>0</th>\n",
       "      <td>0.000000</td>\n",
       "      <td>0.0</td>\n",
       "      <td>0.000000</td>\n",
       "      <td>0.0</td>\n",
       "      <td>0.582524</td>\n",
       "      <td>0.028571</td>\n",
       "      <td>0.073394</td>\n",
       "      <td>0.040251</td>\n",
       "      <td>0.0</td>\n",
       "      <td>0.142857</td>\n",
       "      <td>...</td>\n",
       "      <td>0.017515</td>\n",
       "      <td>0.0</td>\n",
       "      <td>0.0</td>\n",
       "      <td>1.000000</td>\n",
       "      <td>0.227106</td>\n",
       "      <td>1.000000</td>\n",
       "      <td>0.721412</td>\n",
       "      <td>0.001192</td>\n",
       "      <td>0.788090</td>\n",
       "      <td>0</td>\n",
       "    </tr>\n",
       "    <tr>\n",
       "      <th>1</th>\n",
       "      <td>1.000000</td>\n",
       "      <td>0.0</td>\n",
       "      <td>0.020134</td>\n",
       "      <td>0.0</td>\n",
       "      <td>0.409709</td>\n",
       "      <td>0.054054</td>\n",
       "      <td>0.077982</td>\n",
       "      <td>0.040251</td>\n",
       "      <td>0.0</td>\n",
       "      <td>0.142857</td>\n",
       "      <td>...</td>\n",
       "      <td>0.009348</td>\n",
       "      <td>0.0</td>\n",
       "      <td>0.0</td>\n",
       "      <td>0.818182</td>\n",
       "      <td>0.270677</td>\n",
       "      <td>1.000000</td>\n",
       "      <td>0.657374</td>\n",
       "      <td>0.000899</td>\n",
       "      <td>0.788028</td>\n",
       "      <td>0</td>\n",
       "    </tr>\n",
       "    <tr>\n",
       "      <th>2</th>\n",
       "      <td>0.222222</td>\n",
       "      <td>0.0</td>\n",
       "      <td>0.671141</td>\n",
       "      <td>1.0</td>\n",
       "      <td>0.786408</td>\n",
       "      <td>0.055556</td>\n",
       "      <td>0.034404</td>\n",
       "      <td>0.040251</td>\n",
       "      <td>0.0</td>\n",
       "      <td>0.142857</td>\n",
       "      <td>...</td>\n",
       "      <td>0.009481</td>\n",
       "      <td>0.0</td>\n",
       "      <td>0.0</td>\n",
       "      <td>0.818182</td>\n",
       "      <td>0.189676</td>\n",
       "      <td>1.000000</td>\n",
       "      <td>0.739702</td>\n",
       "      <td>0.002560</td>\n",
       "      <td>0.788085</td>\n",
       "      <td>0</td>\n",
       "    </tr>\n",
       "    <tr>\n",
       "      <th>3</th>\n",
       "      <td>1.000000</td>\n",
       "      <td>0.0</td>\n",
       "      <td>0.013423</td>\n",
       "      <td>0.0</td>\n",
       "      <td>0.537864</td>\n",
       "      <td>0.050000</td>\n",
       "      <td>0.038991</td>\n",
       "      <td>0.040251</td>\n",
       "      <td>0.0</td>\n",
       "      <td>0.142857</td>\n",
       "      <td>...</td>\n",
       "      <td>0.004713</td>\n",
       "      <td>0.0</td>\n",
       "      <td>0.0</td>\n",
       "      <td>0.818182</td>\n",
       "      <td>0.229086</td>\n",
       "      <td>0.500000</td>\n",
       "      <td>0.312570</td>\n",
       "      <td>0.000012</td>\n",
       "      <td>0.788415</td>\n",
       "      <td>0</td>\n",
       "    </tr>\n",
       "    <tr>\n",
       "      <th>4</th>\n",
       "      <td>0.222222</td>\n",
       "      <td>0.0</td>\n",
       "      <td>0.677852</td>\n",
       "      <td>1.0</td>\n",
       "      <td>0.120388</td>\n",
       "      <td>0.285714</td>\n",
       "      <td>0.025229</td>\n",
       "      <td>0.040251</td>\n",
       "      <td>0.0</td>\n",
       "      <td>0.142857</td>\n",
       "      <td>...</td>\n",
       "      <td>0.000846</td>\n",
       "      <td>0.0</td>\n",
       "      <td>0.0</td>\n",
       "      <td>0.909091</td>\n",
       "      <td>0.167116</td>\n",
       "      <td>0.285714</td>\n",
       "      <td>0.196191</td>\n",
       "      <td>0.001997</td>\n",
       "      <td>0.788043</td>\n",
       "      <td>0</td>\n",
       "    </tr>\n",
       "  </tbody>\n",
       "</table>\n",
       "<p>5 rows × 105 columns</p>\n",
       "</div>"
      ],
      "text/plain": [
       "    disrict  client_catg    region  region_group  coop_time  is_weekday_mean  \\\n",
       "0  0.000000          0.0  0.000000           0.0   0.582524         0.028571   \n",
       "1  1.000000          0.0  0.020134           0.0   0.409709         0.054054   \n",
       "2  0.222222          0.0  0.671141           1.0   0.786408         0.055556   \n",
       "3  1.000000          0.0  0.013423           0.0   0.537864         0.050000   \n",
       "4  0.222222          0.0  0.677852           1.0   0.120388         0.285714   \n",
       "\n",
       "   transactions_count  tarif_type_mean  tarif_type_std  tarif_type_min  ...  \\\n",
       "0            0.073394         0.040251             0.0        0.142857  ...   \n",
       "1            0.077982         0.040251             0.0        0.142857  ...   \n",
       "2            0.034404         0.040251             0.0        0.142857  ...   \n",
       "3            0.038991         0.040251             0.0        0.142857  ...   \n",
       "4            0.025229         0.040251             0.0        0.142857  ...   \n",
       "\n",
       "   months_number_max_mean  counter_type_range  counter_type_max_mean  \\\n",
       "0                0.017515                 0.0                    0.0   \n",
       "1                0.009348                 0.0                    0.0   \n",
       "2                0.009481                 0.0                    0.0   \n",
       "3                0.004713                 0.0                    0.0   \n",
       "4                0.000846                 0.0                    0.0   \n",
       "\n",
       "   invoice_month_range  invoice_month_max_mean  invoice_year_range  \\\n",
       "0             1.000000                0.227106            1.000000   \n",
       "1             0.818182                0.270677            1.000000   \n",
       "2             0.818182                0.189676            1.000000   \n",
       "3             0.818182                0.229086            0.500000   \n",
       "4             0.909091                0.167116            0.285714   \n",
       "\n",
       "   invoice_year_max_mean  delta_index_range  delta_index_max_mean  target  \n",
       "0               0.721412           0.001192              0.788090       0  \n",
       "1               0.657374           0.000899              0.788028       0  \n",
       "2               0.739702           0.002560              0.788085       0  \n",
       "3               0.312570           0.000012              0.788415       0  \n",
       "4               0.196191           0.001997              0.788043       0  \n",
       "\n",
       "[5 rows x 105 columns]"
      ]
     },
     "execution_count": 3,
     "metadata": {},
     "output_type": "execute_result"
    }
   ],
   "source": [
    "dataset.head()"
   ]
  },
  {
   "cell_type": "code",
   "execution_count": 4,
   "id": "52127f23",
   "metadata": {},
   "outputs": [
    {
     "name": "stdout",
     "output_type": "stream",
     "text": [
      "<class 'pandas.core.frame.DataFrame'>\n",
      "RangeIndex: 123557 entries, 0 to 123556\n",
      "Columns: 105 entries, disrict to target\n",
      "dtypes: float64(104), int64(1)\n",
      "memory usage: 99.0 MB\n"
     ]
    }
   ],
   "source": [
    "dataset.info()"
   ]
  },
  {
   "cell_type": "code",
   "execution_count": 5,
   "id": "142d0d82",
   "metadata": {},
   "outputs": [],
   "source": [
    "features = dataset.drop('target', axis = 1)"
   ]
  },
  {
   "cell_type": "code",
   "execution_count": 7,
   "id": "24969ea4",
   "metadata": {},
   "outputs": [
    {
     "name": "stdout",
     "output_type": "stream",
     "text": [
      "<class 'pandas.core.frame.DataFrame'>\n",
      "RangeIndex: 123557 entries, 0 to 123556\n",
      "Columns: 104 entries, disrict to delta_index_max_mean\n",
      "dtypes: float64(104)\n",
      "memory usage: 98.0 MB\n"
     ]
    }
   ],
   "source": [
    "features.info()"
   ]
  },
  {
   "cell_type": "code",
   "execution_count": 8,
   "id": "595c5dfe",
   "metadata": {},
   "outputs": [],
   "source": [
    "from sklearn import ensemble"
   ]
  },
  {
   "cell_type": "code",
   "execution_count": 11,
   "id": "e79c998e",
   "metadata": {},
   "outputs": [
    {
     "data": {
      "text/plain": [
       "IsolationForest(n_jobs=-1, random_state=42)"
      ]
     },
     "execution_count": 11,
     "metadata": {},
     "output_type": "execute_result"
    }
   ],
   "source": [
    "from sklearn.ensemble import IsolationForest\n",
    "clf=IsolationForest(n_estimators=100, max_samples='auto', \\\n",
    "                        max_features=1.0, bootstrap=False, n_jobs=-1, random_state=42, verbose=0)\n",
    "clf.fit(features)"
   ]
  },
  {
   "cell_type": "code",
   "execution_count": 12,
   "id": "2cdbc5cd",
   "metadata": {},
   "outputs": [
    {
     "name": "stdout",
     "output_type": "stream",
     "text": [
      " 1    117340\n",
      "-1      6217\n",
      "Name: anomaly, dtype: int64\n"
     ]
    }
   ],
   "source": [
    "pred = clf.predict(features)\n",
    "features['anomaly']=pred\n",
    "outliers=features.loc[features['anomaly']==-1]\n",
    "outlier_index=list(outliers.index)\n",
    "#print(outlier_index)\n",
    "#Find the number of anomalies and normal points here points classified -1 are anomalous\n",
    "print(features['anomaly'].value_counts())"
   ]
  },
  {
   "cell_type": "code",
   "execution_count": 10,
   "id": "9c24f236",
   "metadata": {},
   "outputs": [
    {
     "data": {
      "text/plain": [
       "Index(['disrict', 'client_catg', 'region', 'region_group', 'coop_time',\n",
       "       'is_weekday_mean', 'transactions_count', 'tarif_type_mean',\n",
       "       'tarif_type_std', 'tarif_type_min',\n",
       "       ...\n",
       "       'months_number_range', 'months_number_max_mean', 'counter_type_range',\n",
       "       'counter_type_max_mean', 'invoice_month_range',\n",
       "       'invoice_month_max_mean', 'invoice_year_range', 'invoice_year_max_mean',\n",
       "       'delta_index_range', 'delta_index_max_mean'],\n",
       "      dtype='object', length=104)"
      ]
     },
     "execution_count": 10,
     "metadata": {},
     "output_type": "execute_result"
    }
   ],
   "source": [
    "features.columns"
   ]
  },
  {
   "cell_type": "code",
   "execution_count": 16,
   "id": "8e4196c7",
   "metadata": {},
   "outputs": [],
   "source": [
    "outlier_label = []\n",
    "outlier_label = list(pred)"
   ]
  },
  {
   "cell_type": "code",
   "execution_count": 17,
   "id": "aa31e2c4",
   "metadata": {},
   "outputs": [
    {
     "name": "stdout",
     "output_type": "stream",
     "text": [
      "6217\n"
     ]
    }
   ],
   "source": [
    "print(outlier_label.count(-1))"
   ]
  },
  {
   "cell_type": "code",
   "execution_count": 18,
   "id": "7fc7dcfd",
   "metadata": {},
   "outputs": [
    {
     "name": "stdout",
     "output_type": "stream",
     "text": [
      "0\n"
     ]
    }
   ],
   "source": [
    "c = 0\n",
    "end = 123557\n",
    "for i in range(0,end):\n",
    "    if dataset['target'][i] == 'anomaly' and outlier_label[i] == -1:\n",
    "        c += 1\n",
    "    \n",
    "print(c)"
   ]
  },
  {
   "cell_type": "code",
   "execution_count": 19,
   "id": "3737cc4e",
   "metadata": {},
   "outputs": [],
   "source": [
    "q = 0\n",
    "while q < len(outlier_label):\n",
    "    if outlier_label[q] == -1:\n",
    "        #print(q)\n",
    "        dataset.drop(q,axis=0,inplace =True)\n",
    "    q+=1"
   ]
  },
  {
   "cell_type": "code",
   "execution_count": 36,
   "id": "c642655e",
   "metadata": {},
   "outputs": [
    {
     "data": {
      "text/plain": [
       "Text(0, 0.5, 'tarif_type_mean')"
      ]
     },
     "execution_count": 36,
     "metadata": {},
     "output_type": "execute_result"
    },
    {
     "data": {
      "image/png": "[encoded data removed]",
      "text/plain": [
       "<Figure size 504x360 with 1 Axes>"
      ]
     },
     "metadata": {
      "needs_background": "light"
     },
     "output_type": "display_data"
    }
   ],
   "source": [
    "outlier_label = np.array(outlier_label)\n",
    "#print(outlier_label)\n",
    "outlier_label = outlier_label.reshape(1,end)\n",
    "plt.figure(figsize=(7,5))\n",
    "plt.scatter(features[outlier_label[0] == -1].months_number_range,\n",
    "            features[outlier_label[0] == -1].tarif_type_mean,\n",
    "            s=50,\n",
    "            c='red',\n",
    "            marker='o',\n",
    "            edgecolors= 'black',\n",
    "           label = 'anomaly')\n",
    "\n",
    "plt.scatter(features[outlier_label[0] == 1].months_number_range,\n",
    "            features[outlier_label[0] == 1].tarif_type_mean,\n",
    "            s=50,\n",
    "            c='blue',\n",
    "            marker='o',\n",
    "            edgecolors= 'black',\n",
    "            label='normal')\n",
    "\n",
    "plt.legend(loc = 'upper left')\n",
    "plt.xlabel('months_number_range')\n",
    "plt.ylabel('tarif_type_mean')"
   ]
  },
  {
   "cell_type": "code",
   "execution_count": null,
   "id": "6673ca00",
   "metadata": {},
   "outputs": [],
   "source": []
  },
  {
   "cell_type": "markdown",
   "id": "98d4c845",
   "metadata": {},
   "source": [
    "## Extra"
   ]
  },
  {
   "cell_type": "code",
   "execution_count": 37,
   "id": "2c9ffc7d",
   "metadata": {},
   "outputs": [],
   "source": [
    "# from sklearn.decomposition import PCA\n",
    "# pca = PCA(2)\n",
    "# pca.fit(features)\n",
    "\n",
    "\n",
    "# res=pd.DataFrame(pca.transform(features))\n",
    "\n",
    "# Z = np.array(res)\n",
    "# figsize=(12, 7)\n",
    "# plt.figure(figsize=figsize)\n",
    "# plt.title(\"IsolationForest\")\n",
    "# plt.contourf( Z, cmap=plt.cm.Blues_r)\n",
    "\n",
    "# b1 = plt.scatter(res[0], res[1], c='blue',\n",
    "#                  s=20,label=\"normal points\")\n",
    "\n",
    "# b1 = plt.scatter(res.iloc[outlier_index,0],res.iloc[outlier_index,1], c='red',\n",
    "#                  s=20,  edgecolor=\"red\",label=\"predicted outliers\")\n",
    "# plt.legend(loc=\"upper right\")\n",
    "# plt.show()"
   ]
  },
  {
   "cell_type": "code",
   "execution_count": 45,
   "id": "03624ebf",
   "metadata": {
    "scrolled": true
   },
   "outputs": [
    {
     "data": {
      "image/png": "[encoded data removed]",
      "text/plain": [
       "<Figure size 432x288 with 1 Axes>"
      ]
     },
     "metadata": {
      "needs_background": "light"
     },
     "output_type": "display_data"
    }
   ],
   "source": [
    "import matplotlib.pyplot as plt\n",
    "from sklearn.decomposition import PCA\n",
    "from sklearn.preprocessing import StandardScaler\n",
    "from mpl_toolkits.mplot3d import Axes3D\n",
    "pca = PCA(n_components=3)  # Reduce to k=3 dimensions\n",
    "scaler = StandardScaler()\n",
    "#normalize the metrics\n",
    "X = scaler.fit_transform(features)\n",
    "X_reduce = pca.fit_transform(X)\n",
    "\n",
    "fig = plt.figure()\n",
    "ax = fig.add_subplot(111, projection='3d')\n",
    "ax.set_zlabel(\"x_composite_3\")\n",
    "\n",
    "# Plot the compressed data points\n",
    "ax.scatter(X_reduce[:, 0], X_reduce[:, 1], zs=X_reduce[:, 2], s=4, lw=1, label=\"inliers\",c=\"green\")\n",
    "\n",
    "# Plot x's for the ground truth outliers\n",
    "ax.scatter(X_reduce[outlier_index,0],X_reduce[outlier_index,1], X_reduce[outlier_index,2],\n",
    "           lw=2, s=60, marker=\"x\", c=\"red\", label=\"outliers\")\n",
    "ax.legend()\n",
    "plt.show()"
   ]
  },
  {
   "cell_type": "code",
   "execution_count": 47,
   "id": "fe545bbf",
   "metadata": {},
   "outputs": [
    {
     "name": "stdout",
     "output_type": "stream",
     "text": [
      "<class 'pandas.core.frame.DataFrame'>\n",
      "Int64Index: 117340 entries, 0 to 123556\n",
      "Columns: 105 entries, disrict to target\n",
      "dtypes: float64(104), int64(1)\n",
      "memory usage: 94.9 MB\n"
     ]
    }
   ],
   "source": [
    "dataset.info()"
   ]
  },
  {
   "cell_type": "code",
   "execution_count": 48,
   "id": "7e2f6f0d",
   "metadata": {},
   "outputs": [],
   "source": [
    "dataset.to_csv('after_outlier_dataset.csv')"
   ]
  },
  {
   "cell_type": "markdown",
   "id": "f8d5756c",
   "metadata": {},
   "source": [
    "https://www.kaggle.com/adithya44/anomaly-detection-isolation-forest-visualization"
   ]
  }
 ],
 "metadata": {
  "kernelspec": {
   "display_name": "Python 3",
   "language": "python",
   "name": "python3"
  },
  "language_info": {
   "codemirror_mode": {
    "name": "ipython",
    "version": 3
   },
   "file_extension": ".py",
   "mimetype": "text/x-python",
   "name": "python",
   "nbconvert_exporter": "python",
   "pygments_lexer": "ipython3",
   "version": "3.8.8"
  }
 },
 "nbformat": 4,
 "nbformat_minor": 5
}
