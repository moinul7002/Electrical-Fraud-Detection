{
 "cells": [
  {
   "cell_type": "code",
   "execution_count": 1,
   "id": "3523d519",
   "metadata": {},
   "outputs": [],
   "source": [
    "import pandas as pd\n",
    "import numpy as np\n",
    "import matplotlib.pyplot as plt\n",
    "import seaborn as sns"
   ]
  },
  {
   "cell_type": "code",
   "execution_count": 2,
   "id": "dbd78317",
   "metadata": {},
   "outputs": [],
   "source": [
    "from sklearn.linear_model import LogisticRegression \n",
    "from sklearn.ensemble import RandomForestClassifier\n",
    "from sklearn.neighbors import KNeighborsClassifier\n",
    "from sklearn.ensemble import GradientBoostingClassifier\n",
    "from sklearn.ensemble import ExtraTreesClassifier\n",
    "from sklearn.ensemble import AdaBoostClassifier\n",
    "#from catboost import CatBoostClassifier\n",
    "from sklearn.naive_bayes import GaussianNB\n",
    "from sklearn.svm import SVC\n",
    "from sklearn import tree\n",
    "#import lightgbm as lgb\n",
    "#from lightgbm import LGBMClassifier\n",
    "import xgboost as xgb\n",
    "\n",
    "from sklearn.model_selection import train_test_split\n",
    "from scipy import interp\n",
    "from sklearn.metrics import classification_report, accuracy_score, auc\n",
    "from sklearn.metrics import roc_auc_score\n",
    "from sklearn.metrics import roc_curve\n",
    "from sklearn import metrics\n",
    "from sklearn.metrics import confusion_matrix"
   ]
  },
  {
   "cell_type": "code",
   "execution_count": 3,
   "id": "f842fb25",
   "metadata": {},
   "outputs": [],
   "source": [
    "df = pd.read_csv(\"after_outlier_dataset.csv\", index_col=0)"
   ]
  },
  {
   "cell_type": "code",
   "execution_count": 4,
   "id": "fc5677d8",
   "metadata": {},
   "outputs": [
    {
     "data": {
      "text/html": [
       "<div>\n",
       "<style scoped>\n",
       "    .dataframe tbody tr th:only-of-type {\n",
       "        vertical-align: middle;\n",
       "    }\n",
       "\n",
       "    .dataframe tbody tr th {\n",
       "        vertical-align: top;\n",
       "    }\n",
       "\n",
       "    .dataframe thead th {\n",
       "        text-align: right;\n",
       "    }\n",
       "</style>\n",
       "<table border=\"1\" class=\"dataframe\">\n",
       "  <thead>\n",
       "    <tr style=\"text-align: right;\">\n",
       "      <th></th>\n",
       "      <th>disrict</th>\n",
       "      <th>client_catg</th>\n",
       "      <th>region</th>\n",
       "      <th>region_group</th>\n",
       "      <th>coop_time</th>\n",
       "      <th>is_weekday_mean</th>\n",
       "      <th>transactions_count</th>\n",
       "      <th>tarif_type_mean</th>\n",
       "      <th>tarif_type_std</th>\n",
       "      <th>tarif_type_min</th>\n",
       "      <th>...</th>\n",
       "      <th>months_number_max_mean</th>\n",
       "      <th>counter_type_range</th>\n",
       "      <th>counter_type_max_mean</th>\n",
       "      <th>invoice_month_range</th>\n",
       "      <th>invoice_month_max_mean</th>\n",
       "      <th>invoice_year_range</th>\n",
       "      <th>invoice_year_max_mean</th>\n",
       "      <th>delta_index_range</th>\n",
       "      <th>delta_index_max_mean</th>\n",
       "      <th>target</th>\n",
       "    </tr>\n",
       "  </thead>\n",
       "  <tbody>\n",
       "    <tr>\n",
       "      <th>0</th>\n",
       "      <td>0.000000</td>\n",
       "      <td>0.0</td>\n",
       "      <td>0.000000</td>\n",
       "      <td>0.0</td>\n",
       "      <td>0.582524</td>\n",
       "      <td>0.028571</td>\n",
       "      <td>0.073394</td>\n",
       "      <td>0.040251</td>\n",
       "      <td>0.000000</td>\n",
       "      <td>0.142857</td>\n",
       "      <td>...</td>\n",
       "      <td>0.017515</td>\n",
       "      <td>0.0</td>\n",
       "      <td>0.000000</td>\n",
       "      <td>1.000000</td>\n",
       "      <td>0.227106</td>\n",
       "      <td>1.000000</td>\n",
       "      <td>0.721412</td>\n",
       "      <td>0.001192</td>\n",
       "      <td>0.788090</td>\n",
       "      <td>0</td>\n",
       "    </tr>\n",
       "    <tr>\n",
       "      <th>1</th>\n",
       "      <td>1.000000</td>\n",
       "      <td>0.0</td>\n",
       "      <td>0.020134</td>\n",
       "      <td>0.0</td>\n",
       "      <td>0.409709</td>\n",
       "      <td>0.054054</td>\n",
       "      <td>0.077982</td>\n",
       "      <td>0.040251</td>\n",
       "      <td>0.000000</td>\n",
       "      <td>0.142857</td>\n",
       "      <td>...</td>\n",
       "      <td>0.009348</td>\n",
       "      <td>0.0</td>\n",
       "      <td>0.000000</td>\n",
       "      <td>0.818182</td>\n",
       "      <td>0.270677</td>\n",
       "      <td>1.000000</td>\n",
       "      <td>0.657374</td>\n",
       "      <td>0.000899</td>\n",
       "      <td>0.788028</td>\n",
       "      <td>0</td>\n",
       "    </tr>\n",
       "    <tr>\n",
       "      <th>2</th>\n",
       "      <td>0.222222</td>\n",
       "      <td>0.0</td>\n",
       "      <td>0.671141</td>\n",
       "      <td>1.0</td>\n",
       "      <td>0.786408</td>\n",
       "      <td>0.055556</td>\n",
       "      <td>0.034404</td>\n",
       "      <td>0.040251</td>\n",
       "      <td>0.000000</td>\n",
       "      <td>0.142857</td>\n",
       "      <td>...</td>\n",
       "      <td>0.009481</td>\n",
       "      <td>0.0</td>\n",
       "      <td>0.000000</td>\n",
       "      <td>0.818182</td>\n",
       "      <td>0.189676</td>\n",
       "      <td>1.000000</td>\n",
       "      <td>0.739702</td>\n",
       "      <td>0.002560</td>\n",
       "      <td>0.788085</td>\n",
       "      <td>0</td>\n",
       "    </tr>\n",
       "    <tr>\n",
       "      <th>3</th>\n",
       "      <td>1.000000</td>\n",
       "      <td>0.0</td>\n",
       "      <td>0.013423</td>\n",
       "      <td>0.0</td>\n",
       "      <td>0.537864</td>\n",
       "      <td>0.050000</td>\n",
       "      <td>0.038991</td>\n",
       "      <td>0.040251</td>\n",
       "      <td>0.000000</td>\n",
       "      <td>0.142857</td>\n",
       "      <td>...</td>\n",
       "      <td>0.004713</td>\n",
       "      <td>0.0</td>\n",
       "      <td>0.000000</td>\n",
       "      <td>0.818182</td>\n",
       "      <td>0.229086</td>\n",
       "      <td>0.500000</td>\n",
       "      <td>0.312570</td>\n",
       "      <td>0.000012</td>\n",
       "      <td>0.788415</td>\n",
       "      <td>0</td>\n",
       "    </tr>\n",
       "    <tr>\n",
       "      <th>4</th>\n",
       "      <td>0.222222</td>\n",
       "      <td>0.0</td>\n",
       "      <td>0.677852</td>\n",
       "      <td>1.0</td>\n",
       "      <td>0.120388</td>\n",
       "      <td>0.285714</td>\n",
       "      <td>0.025229</td>\n",
       "      <td>0.040251</td>\n",
       "      <td>0.000000</td>\n",
       "      <td>0.142857</td>\n",
       "      <td>...</td>\n",
       "      <td>0.000846</td>\n",
       "      <td>0.0</td>\n",
       "      <td>0.000000</td>\n",
       "      <td>0.909091</td>\n",
       "      <td>0.167116</td>\n",
       "      <td>0.285714</td>\n",
       "      <td>0.196191</td>\n",
       "      <td>0.001997</td>\n",
       "      <td>0.788043</td>\n",
       "      <td>0</td>\n",
       "    </tr>\n",
       "    <tr>\n",
       "      <th>...</th>\n",
       "      <td>...</td>\n",
       "      <td>...</td>\n",
       "      <td>...</td>\n",
       "      <td>...</td>\n",
       "      <td>...</td>\n",
       "      <td>...</td>\n",
       "      <td>...</td>\n",
       "      <td>...</td>\n",
       "      <td>...</td>\n",
       "      <td>...</td>\n",
       "      <td>...</td>\n",
       "      <td>...</td>\n",
       "      <td>...</td>\n",
       "      <td>...</td>\n",
       "      <td>...</td>\n",
       "      <td>...</td>\n",
       "      <td>...</td>\n",
       "      <td>...</td>\n",
       "      <td>...</td>\n",
       "      <td>...</td>\n",
       "      <td>...</td>\n",
       "    </tr>\n",
       "    <tr>\n",
       "      <th>123552</th>\n",
       "      <td>0.000000</td>\n",
       "      <td>0.0</td>\n",
       "      <td>0.000000</td>\n",
       "      <td>0.0</td>\n",
       "      <td>0.304854</td>\n",
       "      <td>0.200000</td>\n",
       "      <td>0.073394</td>\n",
       "      <td>0.289597</td>\n",
       "      <td>0.700486</td>\n",
       "      <td>0.095238</td>\n",
       "      <td>...</td>\n",
       "      <td>0.010998</td>\n",
       "      <td>1.0</td>\n",
       "      <td>0.026667</td>\n",
       "      <td>1.000000</td>\n",
       "      <td>0.291209</td>\n",
       "      <td>0.642857</td>\n",
       "      <td>0.354148</td>\n",
       "      <td>0.001358</td>\n",
       "      <td>0.788062</td>\n",
       "      <td>0</td>\n",
       "    </tr>\n",
       "    <tr>\n",
       "      <th>123553</th>\n",
       "      <td>0.000000</td>\n",
       "      <td>0.0</td>\n",
       "      <td>0.000000</td>\n",
       "      <td>0.0</td>\n",
       "      <td>0.955340</td>\n",
       "      <td>0.000000</td>\n",
       "      <td>0.002294</td>\n",
       "      <td>0.007318</td>\n",
       "      <td>0.000000</td>\n",
       "      <td>0.095238</td>\n",
       "      <td>...</td>\n",
       "      <td>0.003666</td>\n",
       "      <td>0.0</td>\n",
       "      <td>0.000000</td>\n",
       "      <td>0.727273</td>\n",
       "      <td>0.204082</td>\n",
       "      <td>0.142857</td>\n",
       "      <td>0.092051</td>\n",
       "      <td>0.000026</td>\n",
       "      <td>0.788044</td>\n",
       "      <td>0</td>\n",
       "    </tr>\n",
       "    <tr>\n",
       "      <th>123554</th>\n",
       "      <td>0.333333</td>\n",
       "      <td>0.0</td>\n",
       "      <td>0.704698</td>\n",
       "      <td>1.0</td>\n",
       "      <td>0.166990</td>\n",
       "      <td>0.000000</td>\n",
       "      <td>0.087156</td>\n",
       "      <td>0.529420</td>\n",
       "      <td>0.747623</td>\n",
       "      <td>0.142857</td>\n",
       "      <td>...</td>\n",
       "      <td>0.000275</td>\n",
       "      <td>1.0</td>\n",
       "      <td>0.070000</td>\n",
       "      <td>0.727273</td>\n",
       "      <td>0.186636</td>\n",
       "      <td>0.428571</td>\n",
       "      <td>0.290447</td>\n",
       "      <td>0.000735</td>\n",
       "      <td>0.788113</td>\n",
       "      <td>0</td>\n",
       "    </tr>\n",
       "    <tr>\n",
       "      <th>123555</th>\n",
       "      <td>0.333333</td>\n",
       "      <td>0.0</td>\n",
       "      <td>0.704698</td>\n",
       "      <td>1.0</td>\n",
       "      <td>0.188350</td>\n",
       "      <td>0.194444</td>\n",
       "      <td>0.075688</td>\n",
       "      <td>0.411657</td>\n",
       "      <td>0.730415</td>\n",
       "      <td>0.142857</td>\n",
       "      <td>...</td>\n",
       "      <td>0.010403</td>\n",
       "      <td>1.0</td>\n",
       "      <td>0.042424</td>\n",
       "      <td>0.909091</td>\n",
       "      <td>0.211982</td>\n",
       "      <td>0.500000</td>\n",
       "      <td>0.394622</td>\n",
       "      <td>0.000921</td>\n",
       "      <td>0.788094</td>\n",
       "      <td>0</td>\n",
       "    </tr>\n",
       "    <tr>\n",
       "      <th>123556</th>\n",
       "      <td>0.000000</td>\n",
       "      <td>0.0</td>\n",
       "      <td>0.000000</td>\n",
       "      <td>0.0</td>\n",
       "      <td>0.788350</td>\n",
       "      <td>0.000000</td>\n",
       "      <td>0.000000</td>\n",
       "      <td>0.040251</td>\n",
       "      <td>0.000000</td>\n",
       "      <td>0.142857</td>\n",
       "      <td>...</td>\n",
       "      <td>0.000000</td>\n",
       "      <td>0.0</td>\n",
       "      <td>0.000000</td>\n",
       "      <td>0.727273</td>\n",
       "      <td>0.228571</td>\n",
       "      <td>0.000000</td>\n",
       "      <td>0.000000</td>\n",
       "      <td>0.000304</td>\n",
       "      <td>0.787996</td>\n",
       "      <td>0</td>\n",
       "    </tr>\n",
       "  </tbody>\n",
       "</table>\n",
       "<p>117340 rows × 105 columns</p>\n",
       "</div>"
      ],
      "text/plain": [
       "         disrict  client_catg    region  region_group  coop_time  \\\n",
       "0       0.000000          0.0  0.000000           0.0   0.582524   \n",
       "1       1.000000          0.0  0.020134           0.0   0.409709   \n",
       "2       0.222222          0.0  0.671141           1.0   0.786408   \n",
       "3       1.000000          0.0  0.013423           0.0   0.537864   \n",
       "4       0.222222          0.0  0.677852           1.0   0.120388   \n",
       "...          ...          ...       ...           ...        ...   \n",
       "123552  0.000000          0.0  0.000000           0.0   0.304854   \n",
       "123553  0.000000          0.0  0.000000           0.0   0.955340   \n",
       "123554  0.333333          0.0  0.704698           1.0   0.166990   \n",
       "123555  0.333333          0.0  0.704698           1.0   0.188350   \n",
       "123556  0.000000          0.0  0.000000           0.0   0.788350   \n",
       "\n",
       "        is_weekday_mean  transactions_count  tarif_type_mean  tarif_type_std  \\\n",
       "0              0.028571            0.073394         0.040251        0.000000   \n",
       "1              0.054054            0.077982         0.040251        0.000000   \n",
       "2              0.055556            0.034404         0.040251        0.000000   \n",
       "3              0.050000            0.038991         0.040251        0.000000   \n",
       "4              0.285714            0.025229         0.040251        0.000000   \n",
       "...                 ...                 ...              ...             ...   \n",
       "123552         0.200000            0.073394         0.289597        0.700486   \n",
       "123553         0.000000            0.002294         0.007318        0.000000   \n",
       "123554         0.000000            0.087156         0.529420        0.747623   \n",
       "123555         0.194444            0.075688         0.411657        0.730415   \n",
       "123556         0.000000            0.000000         0.040251        0.000000   \n",
       "\n",
       "        tarif_type_min  ...  months_number_max_mean  counter_type_range  \\\n",
       "0             0.142857  ...                0.017515                 0.0   \n",
       "1             0.142857  ...                0.009348                 0.0   \n",
       "2             0.142857  ...                0.009481                 0.0   \n",
       "3             0.142857  ...                0.004713                 0.0   \n",
       "4             0.142857  ...                0.000846                 0.0   \n",
       "...                ...  ...                     ...                 ...   \n",
       "123552        0.095238  ...                0.010998                 1.0   \n",
       "123553        0.095238  ...                0.003666                 0.0   \n",
       "123554        0.142857  ...                0.000275                 1.0   \n",
       "123555        0.142857  ...                0.010403                 1.0   \n",
       "123556        0.142857  ...                0.000000                 0.0   \n",
       "\n",
       "        counter_type_max_mean  invoice_month_range  invoice_month_max_mean  \\\n",
       "0                    0.000000             1.000000                0.227106   \n",
       "1                    0.000000             0.818182                0.270677   \n",
       "2                    0.000000             0.818182                0.189676   \n",
       "3                    0.000000             0.818182                0.229086   \n",
       "4                    0.000000             0.909091                0.167116   \n",
       "...                       ...                  ...                     ...   \n",
       "123552               0.026667             1.000000                0.291209   \n",
       "123553               0.000000             0.727273                0.204082   \n",
       "123554               0.070000             0.727273                0.186636   \n",
       "123555               0.042424             0.909091                0.211982   \n",
       "123556               0.000000             0.727273                0.228571   \n",
       "\n",
       "        invoice_year_range  invoice_year_max_mean  delta_index_range  \\\n",
       "0                 1.000000               0.721412           0.001192   \n",
       "1                 1.000000               0.657374           0.000899   \n",
       "2                 1.000000               0.739702           0.002560   \n",
       "3                 0.500000               0.312570           0.000012   \n",
       "4                 0.285714               0.196191           0.001997   \n",
       "...                    ...                    ...                ...   \n",
       "123552            0.642857               0.354148           0.001358   \n",
       "123553            0.142857               0.092051           0.000026   \n",
       "123554            0.428571               0.290447           0.000735   \n",
       "123555            0.500000               0.394622           0.000921   \n",
       "123556            0.000000               0.000000           0.000304   \n",
       "\n",
       "        delta_index_max_mean  target  \n",
       "0                   0.788090       0  \n",
       "1                   0.788028       0  \n",
       "2                   0.788085       0  \n",
       "3                   0.788415       0  \n",
       "4                   0.788043       0  \n",
       "...                      ...     ...  \n",
       "123552              0.788062       0  \n",
       "123553              0.788044       0  \n",
       "123554              0.788113       0  \n",
       "123555              0.788094       0  \n",
       "123556              0.787996       0  \n",
       "\n",
       "[117340 rows x 105 columns]"
      ]
     },
     "execution_count": 4,
     "metadata": {},
     "output_type": "execute_result"
    }
   ],
   "source": [
    "df"
   ]
  },
  {
   "cell_type": "code",
   "execution_count": 5,
   "id": "e55d4242",
   "metadata": {},
   "outputs": [
    {
     "name": "stdout",
     "output_type": "stream",
     "text": [
      "No. of Non-fraudalent Cases: 110575\n",
      "No. of Fraudalent Cases: 6765\n"
     ]
    }
   ],
   "source": [
    "not_fraud = df[(df['target'] == 0 )].count()[1]\n",
    "fraud = df[(df['target'] == 1 )].count()[1]\n",
    "print('No. of Non-fraudalent Cases: '+ str(not_fraud))\n",
    "print('No. of Fraudalent Cases: '+ str(fraud))"
   ]
  },
  {
   "cell_type": "code",
   "execution_count": 6,
   "id": "55e89bb5",
   "metadata": {},
   "outputs": [],
   "source": [
    "X = df.drop('target', axis=1)\n",
    "y = df['target']\n",
    "\n",
    "X_train,X_test,y_train,y_test = train_test_split(X,y, test_size = 0.3, random_state = 1)"
   ]
  },
  {
   "cell_type": "markdown",
   "id": "af98ac72",
   "metadata": {},
   "source": [
    "## Borderline SMOTE with SVM"
   ]
  },
  {
   "cell_type": "code",
   "execution_count": 7,
   "id": "01779da7",
   "metadata": {},
   "outputs": [],
   "source": [
    "# from imblearn.over_sampling import BorderlineSMOTE\n",
    "from imblearn.over_sampling import SVMSMOTE\n",
    "\n",
    "X_train_s, y_train_s = SVMSMOTE(random_state=42).fit_resample(X_train, y_train.ravel())\n"
   ]
  },
  {
   "cell_type": "code",
   "execution_count": 8,
   "id": "442da92c",
   "metadata": {},
   "outputs": [
    {
     "name": "stdout",
     "output_type": "stream",
     "text": [
      "[(0, 77428), (1, 77428)]\n"
     ]
    }
   ],
   "source": [
    "from collections import Counter\n",
    "print(sorted(Counter(y_train_s).items()))"
   ]
  },
  {
   "cell_type": "code",
   "execution_count": 9,
   "id": "8e6a9d37",
   "metadata": {},
   "outputs": [],
   "source": [
    "rfc = RandomForestClassifier(n_estimators=100,random_state = 42)\n",
    "rfc.fit(X_train_s, y_train_s)\n",
    "rfc_pred = rfc.predict(X_test)"
   ]
  },
  {
   "cell_type": "code",
   "execution_count": 10,
   "id": "11978cdf",
   "metadata": {},
   "outputs": [
    {
     "name": "stdout",
     "output_type": "stream",
     "text": [
      "0.9402874836657008\n",
      "              precision    recall  f1-score   support\n",
      "\n",
      "           0       0.96      0.98      0.97     33147\n",
      "           1       0.48      0.28      0.35      2055\n",
      "\n",
      "    accuracy                           0.94     35202\n",
      "   macro avg       0.72      0.63      0.66     35202\n",
      "weighted avg       0.93      0.94      0.93     35202\n",
      "\n"
     ]
    }
   ],
   "source": [
    "print(accuracy_score(y_test,rfc_pred))\n",
    "print(classification_report(y_test,rfc_pred))"
   ]
  },
  {
   "cell_type": "code",
   "execution_count": 45,
   "id": "3f30efdc",
   "metadata": {},
   "outputs": [
    {
     "ename": "NameError",
     "evalue": "name 'X_test_s' is not defined",
     "output_type": "error",
     "traceback": [
      "\u001b[1;31m---------------------------------------------------------------------------\u001b[0m",
      "\u001b[1;31mNameError\u001b[0m                                 Traceback (most recent call last)",
      "\u001b[1;32m<ipython-input-45-199999e7065d>\u001b[0m in \u001b[0;36m<module>\u001b[1;34m\u001b[0m\n\u001b[1;32m----> 1\u001b[1;33m \u001b[0mconf\u001b[0m\u001b[1;33m(\u001b[0m\u001b[0mrfc\u001b[0m\u001b[1;33m,\u001b[0m\u001b[0mX_test_s\u001b[0m\u001b[1;33m,\u001b[0m \u001b[0my_test\u001b[0m\u001b[1;33m)\u001b[0m\u001b[1;33m\u001b[0m\u001b[1;33m\u001b[0m\u001b[0m\n\u001b[0m",
      "\u001b[1;31mNameError\u001b[0m: name 'X_test_s' is not defined"
     ]
    }
   ],
   "source": [
    "conf(rfc,X_test_s, y_test)"
   ]
  },
  {
   "cell_type": "code",
   "execution_count": 18,
   "id": "38aee79e",
   "metadata": {},
   "outputs": [
    {
     "name": "stdout",
     "output_type": "stream",
     "text": [
      "0.9200045451962957\n",
      "              precision    recall  f1-score   support\n",
      "\n",
      "           0       0.96      0.95      0.96     33147\n",
      "           1       0.34      0.38      0.36      2055\n",
      "\n",
      "    accuracy                           0.92     35202\n",
      "   macro avg       0.65      0.67      0.66     35202\n",
      "weighted avg       0.92      0.92      0.92     35202\n",
      "\n"
     ]
    }
   ],
   "source": [
    "gbc = GradientBoostingClassifier()\n",
    "gbc.fit(X_train_s,y_train_s)\n",
    "predictions = gbc.predict(X_test)\n",
    "print(accuracy_score(y_test, predictions))\n",
    "print(classification_report(y_test,predictions))"
   ]
  },
  {
   "cell_type": "code",
   "execution_count": 19,
   "id": "f554b14e",
   "metadata": {},
   "outputs": [
    {
     "name": "stdout",
     "output_type": "stream",
     "text": [
      "0.8387023464575877\n",
      "              precision    recall  f1-score   support\n",
      "\n",
      "           0       0.97      0.86      0.91     33147\n",
      "           1       0.18      0.50      0.27      2055\n",
      "\n",
      "    accuracy                           0.84     35202\n",
      "   macro avg       0.57      0.68      0.59     35202\n",
      "weighted avg       0.92      0.84      0.87     35202\n",
      "\n"
     ]
    },
    {
     "name": "stderr",
     "output_type": "stream",
     "text": [
      "C:\\Users\\moinu\\anaconda3\\lib\\site-packages\\sklearn\\linear_model\\_logistic.py:763: ConvergenceWarning: lbfgs failed to converge (status=1):\n",
      "STOP: TOTAL NO. of ITERATIONS REACHED LIMIT.\n",
      "\n",
      "Increase the number of iterations (max_iter) or scale the data as shown in:\n",
      "    https://scikit-learn.org/stable/modules/preprocessing.html\n",
      "Please also refer to the documentation for alternative solver options:\n",
      "    https://scikit-learn.org/stable/modules/linear_model.html#logistic-regression\n",
      "  n_iter_i = _check_optimize_result(\n"
     ]
    }
   ],
   "source": [
    "logmodel = LogisticRegression()\n",
    "logmodel.fit(X_train_s,y_train_s)\n",
    "predictions = logmodel.predict(X_test)\n",
    "print(accuracy_score(y_test, predictions))\n",
    "print(classification_report(y_test,predictions))"
   ]
  },
  {
   "cell_type": "code",
   "execution_count": 20,
   "id": "57c5ea4b",
   "metadata": {},
   "outputs": [
    {
     "name": "stdout",
     "output_type": "stream",
     "text": [
      "Score KNeighnors : 0.8499801147662065\n",
      "              precision    recall  f1-score   support\n",
      "\n",
      "           0       0.96      0.88      0.92     33147\n",
      "           1       0.17      0.39      0.23      2055\n",
      "\n",
      "    accuracy                           0.85     35202\n",
      "   macro avg       0.56      0.63      0.57     35202\n",
      "weighted avg       0.91      0.85      0.88     35202\n",
      "\n"
     ]
    }
   ],
   "source": [
    "knneig = KNeighborsClassifier(n_neighbors=10)\n",
    "knneig.fit(X_train_s, y_train_s)\n",
    "pred_knneigh = knneig.predict(X_test)\n",
    "score_knneigh_before = accuracy_score(y_test, pred_knneigh)\n",
    "print(\"Score KNeighnors :\",score_knneigh_before)\n",
    "print(classification_report(y_test, pred_knneigh))"
   ]
  },
  {
   "cell_type": "code",
   "execution_count": 21,
   "id": "d9aad33a",
   "metadata": {},
   "outputs": [
    {
     "name": "stderr",
     "output_type": "stream",
     "text": [
      "C:\\Users\\moinu\\anaconda3\\lib\\site-packages\\xgboost\\sklearn.py:1146: UserWarning: The use of label encoder in XGBClassifier is deprecated and will be removed in a future release. To remove this warning, do the following: 1) Pass option use_label_encoder=False when constructing XGBClassifier object; and 2) Encode your labels (y) as integers starting with 0, i.e. 0, 1, 2, ..., [num_class - 1].\n",
      "  warnings.warn(label_encoder_deprecation_msg, UserWarning)\n"
     ]
    },
    {
     "name": "stdout",
     "output_type": "stream",
     "text": [
      "0.9419635247997273\n",
      "              precision    recall  f1-score   support\n",
      "\n",
      "           0       0.96      0.98      0.97     33147\n",
      "           1       0.51      0.26      0.35      2055\n",
      "\n",
      "    accuracy                           0.94     35202\n",
      "   macro avg       0.73      0.62      0.66     35202\n",
      "weighted avg       0.93      0.94      0.93     35202\n",
      "\n"
     ]
    },
    {
     "name": "stderr",
     "output_type": "stream",
     "text": [
      "C:\\Users\\moinu\\anaconda3\\lib\\site-packages\\xgboost\\data.py:112: UserWarning: Use subset (sliced data) of np.ndarray is not recommended because it will generate extra copies and increase memory consumption\n",
      "  warnings.warn(\n"
     ]
    }
   ],
   "source": [
    "xg = xgb.XGBClassifier(objective=\"binary:logistic\", random_state=42, eval_metric=\"auc\")\n",
    "xg.fit(X_train_s,y_train_s)\n",
    "predictions = xg.predict(X_test)\n",
    "print(accuracy_score(y_test, predictions))\n",
    "print(classification_report(y_test,predictions))"
   ]
  },
  {
   "cell_type": "code",
   "execution_count": 22,
   "id": "5aa57c8e",
   "metadata": {},
   "outputs": [
    {
     "name": "stdout",
     "output_type": "stream",
     "text": [
      "0.8898073973069712\n",
      "              precision    recall  f1-score   support\n",
      "\n",
      "           0       0.96      0.92      0.94     33147\n",
      "           1       0.24      0.40      0.30      2055\n",
      "\n",
      "    accuracy                           0.89     35202\n",
      "   macro avg       0.60      0.66      0.62     35202\n",
      "weighted avg       0.92      0.89      0.90     35202\n",
      "\n"
     ]
    }
   ],
   "source": [
    "ada = AdaBoostClassifier()\n",
    "ada.fit(X_train_s,y_train_s)\n",
    "predictions = ada.predict(X_test)\n",
    "print(accuracy_score(y_test, predictions))\n",
    "print(classification_report(y_test,predictions))"
   ]
  },
  {
   "cell_type": "code",
   "execution_count": 28,
   "id": "168eb9a9",
   "metadata": {},
   "outputs": [],
   "source": [
    "import tensorflow as tf\n",
    "model= tf.keras.models.Sequential()\n",
    "model.add(tf.keras.layers.Dense(units=64,activation='relu',input_shape= (104,)))\n",
    "model.add(tf.keras.layers.Dense(units=128,activation='relu'))\n",
    "model.add(tf.keras.layers.Dense(units=1,activation='sigmoid'))"
   ]
  },
  {
   "cell_type": "code",
   "execution_count": 29,
   "id": "ad2c6b33",
   "metadata": {},
   "outputs": [
    {
     "name": "stdout",
     "output_type": "stream",
     "text": [
      "Model: \"sequential_1\"\n",
      "_________________________________________________________________\n",
      "Layer (type)                 Output Shape              Param #   \n",
      "=================================================================\n",
      "dense_3 (Dense)              (None, 64)                6720      \n",
      "_________________________________________________________________\n",
      "dense_4 (Dense)              (None, 128)               8320      \n",
      "_________________________________________________________________\n",
      "dense_5 (Dense)              (None, 1)                 129       \n",
      "=================================================================\n",
      "Total params: 15,169\n",
      "Trainable params: 15,169\n",
      "Non-trainable params: 0\n",
      "_________________________________________________________________\n"
     ]
    }
   ],
   "source": [
    "model.summary()"
   ]
  },
  {
   "cell_type": "code",
   "execution_count": 33,
   "id": "d4a1b977",
   "metadata": {
    "scrolled": true
   },
   "outputs": [
    {
     "name": "stdout",
     "output_type": "stream",
     "text": [
      "Epoch 1/150\n",
      "7743/7743 [==============================] - 7s 893us/step - loss: 0.1721 - accuracy: 0.9350\n",
      "Epoch 2/150\n",
      "7743/7743 [==============================] - 7s 894us/step - loss: 0.1711 - accuracy: 0.9350\n",
      "Epoch 3/150\n",
      "7743/7743 [==============================] - 7s 911us/step - loss: 0.1696 - accuracy: 0.9358\n",
      "Epoch 4/150\n",
      "7743/7743 [==============================] - 7s 908us/step - loss: 0.1690 - accuracy: 0.9359\n",
      "Epoch 5/150\n",
      "7743/7743 [==============================] - 7s 910us/step - loss: 0.1677 - accuracy: 0.9365\n",
      "Epoch 6/150\n",
      "7743/7743 [==============================] - 7s 905us/step - loss: 0.1672 - accuracy: 0.9368\n",
      "Epoch 7/150\n",
      "7743/7743 [==============================] - 7s 963us/step - loss: 0.1659 - accuracy: 0.9376\n",
      "Epoch 8/150\n",
      "7743/7743 [==============================] - 8s 999us/step - loss: 0.1647 - accuracy: 0.9378\n",
      "Epoch 9/150\n",
      "7743/7743 [==============================] - 7s 958us/step - loss: 0.1646 - accuracy: 0.9377\n",
      "Epoch 10/150\n",
      "7743/7743 [==============================] - 7s 952us/step - loss: 0.1641 - accuracy: 0.9384\n",
      "Epoch 11/150\n",
      "7743/7743 [==============================] - 7s 941us/step - loss: 0.1626 - accuracy: 0.9392\n",
      "Epoch 12/150\n",
      "7743/7743 [==============================] - 7s 956us/step - loss: 0.1615 - accuracy: 0.9393\n",
      "Epoch 13/150\n",
      "7743/7743 [==============================] - 7s 947us/step - loss: 0.1610 - accuracy: 0.9395\n",
      "Epoch 14/150\n",
      "7743/7743 [==============================] - 7s 943us/step - loss: 0.1599 - accuracy: 0.9404\n",
      "Epoch 15/150\n",
      "7743/7743 [==============================] - 7s 962us/step - loss: 0.1601 - accuracy: 0.9399\n",
      "Epoch 16/150\n",
      "7743/7743 [==============================] - 7s 961us/step - loss: 0.1593 - accuracy: 0.9402\n",
      "Epoch 17/150\n",
      "7743/7743 [==============================] - 7s 954us/step - loss: 0.1583 - accuracy: 0.9406\n",
      "Epoch 18/150\n",
      "7743/7743 [==============================] - 7s 963us/step - loss: 0.1572 - accuracy: 0.9408\n",
      "Epoch 19/150\n",
      "7743/7743 [==============================] - 7s 950us/step - loss: 0.1564 - accuracy: 0.9414\n",
      "Epoch 20/150\n",
      "7743/7743 [==============================] - 7s 960us/step - loss: 0.1559 - accuracy: 0.9416\n",
      "Epoch 21/150\n",
      "7743/7743 [==============================] - 7s 958us/step - loss: 0.1556 - accuracy: 0.9426\n",
      "Epoch 22/150\n",
      "7743/7743 [==============================] - 7s 950us/step - loss: 0.1549 - accuracy: 0.9420\n",
      "Epoch 23/150\n",
      "7743/7743 [==============================] - 7s 951us/step - loss: 0.1542 - accuracy: 0.9426\n",
      "Epoch 24/150\n",
      "7743/7743 [==============================] - 7s 959us/step - loss: 0.1540 - accuracy: 0.9429\n",
      "Epoch 25/150\n",
      "7743/7743 [==============================] - 7s 955us/step - loss: 0.1523 - accuracy: 0.9433\n",
      "Epoch 26/150\n",
      "7743/7743 [==============================] - 7s 946us/step - loss: 0.1526 - accuracy: 0.9429\n",
      "Epoch 27/150\n",
      "7743/7743 [==============================] - 7s 945us/step - loss: 0.1519 - accuracy: 0.9433\n",
      "Epoch 28/150\n",
      "7743/7743 [==============================] - 7s 953us/step - loss: 0.1515 - accuracy: 0.9443\n",
      "Epoch 29/150\n",
      "7743/7743 [==============================] - 7s 953us/step - loss: 0.1504 - accuracy: 0.9442\n",
      "Epoch 30/150\n",
      "7743/7743 [==============================] - 7s 951us/step - loss: 0.1499 - accuracy: 0.9442\n",
      "Epoch 31/150\n",
      "7743/7743 [==============================] - 7s 957us/step - loss: 0.1492 - accuracy: 0.9450\n",
      "Epoch 32/150\n",
      "7743/7743 [==============================] - 7s 956us/step - loss: 0.1484 - accuracy: 0.9455\n",
      "Epoch 33/150\n",
      "7743/7743 [==============================] - 7s 956us/step - loss: 0.1482 - accuracy: 0.9445\n",
      "Epoch 34/150\n",
      "7743/7743 [==============================] - 7s 960us/step - loss: 0.1479 - accuracy: 0.9453\n",
      "Epoch 35/150\n",
      "7743/7743 [==============================] - 7s 961us/step - loss: 0.1471 - accuracy: 0.9453\n",
      "Epoch 36/150\n",
      "7743/7743 [==============================] - 7s 948us/step - loss: 0.1459 - accuracy: 0.9467\n",
      "Epoch 37/150\n",
      "7743/7743 [==============================] - 7s 949us/step - loss: 0.1460 - accuracy: 0.9463\n",
      "Epoch 38/150\n",
      "7743/7743 [==============================] - 7s 952us/step - loss: 0.1453 - accuracy: 0.9458\n",
      "Epoch 39/150\n",
      "7743/7743 [==============================] - 7s 955us/step - loss: 0.1442 - accuracy: 0.9470\n",
      "Epoch 40/150\n",
      "7743/7743 [==============================] - 7s 946us/step - loss: 0.1438 - accuracy: 0.9476\n",
      "Epoch 41/150\n",
      "7743/7743 [==============================] - 7s 949us/step - loss: 0.1432 - accuracy: 0.9473\n",
      "Epoch 42/150\n",
      "7743/7743 [==============================] - 7s 958us/step - loss: 0.1428 - accuracy: 0.9481\n",
      "Epoch 43/150\n",
      "7743/7743 [==============================] - 7s 957us/step - loss: 0.1425 - accuracy: 0.9473\n",
      "Epoch 44/150\n",
      "7743/7743 [==============================] - 7s 952us/step - loss: 0.1421 - accuracy: 0.9477\n",
      "Epoch 45/150\n",
      "7743/7743 [==============================] - 8s 974us/step - loss: 0.1414 - accuracy: 0.9478\n",
      "Epoch 46/150\n",
      "7743/7743 [==============================] - 8s 974us/step - loss: 0.1412 - accuracy: 0.9478\n",
      "Epoch 47/150\n",
      "7743/7743 [==============================] - 7s 951us/step - loss: 0.1411 - accuracy: 0.9479\n",
      "Epoch 48/150\n",
      "7743/7743 [==============================] - 7s 951us/step - loss: 0.1395 - accuracy: 0.9493\n",
      "Epoch 49/150\n",
      "7743/7743 [==============================] - 7s 956us/step - loss: 0.1395 - accuracy: 0.9486\n",
      "Epoch 50/150\n",
      "7743/7743 [==============================] - 7s 949us/step - loss: 0.1388 - accuracy: 0.9491\n",
      "Epoch 51/150\n",
      "7743/7743 [==============================] - 7s 959us/step - loss: 0.1392 - accuracy: 0.9492\n",
      "Epoch 52/150\n",
      "7743/7743 [==============================] - 7s 961us/step - loss: 0.1376 - accuracy: 0.9496\n",
      "Epoch 53/150\n",
      "7743/7743 [==============================] - 7s 953us/step - loss: 0.1383 - accuracy: 0.9494\n",
      "Epoch 54/150\n",
      "7743/7743 [==============================] - 7s 946us/step - loss: 0.1378 - accuracy: 0.9494\n",
      "Epoch 55/150\n",
      "7743/7743 [==============================] - 7s 955us/step - loss: 0.1371 - accuracy: 0.9499\n",
      "Epoch 56/150\n",
      "7743/7743 [==============================] - 7s 957us/step - loss: 0.1362 - accuracy: 0.9499\n",
      "Epoch 57/150\n",
      "7743/7743 [==============================] - 8s 1ms/step - loss: 0.1365 - accuracy: 0.9505\n",
      "Epoch 58/150\n",
      "7743/7743 [==============================] - 7s 967us/step - loss: 0.1360 - accuracy: 0.9499\n",
      "Epoch 59/150\n",
      "7743/7743 [==============================] - 7s 948us/step - loss: 0.1352 - accuracy: 0.9506\n",
      "Epoch 60/150\n",
      "7743/7743 [==============================] - 8s 1ms/step - loss: 0.1350 - accuracy: 0.9507\n",
      "Epoch 61/150\n",
      "7743/7743 [==============================] - 7s 961us/step - loss: 0.1344 - accuracy: 0.9507\n",
      "Epoch 62/150\n",
      "7743/7743 [==============================] - 7s 952us/step - loss: 0.1345 - accuracy: 0.9507\n",
      "Epoch 63/150\n",
      "7743/7743 [==============================] - 7s 958us/step - loss: 0.1339 - accuracy: 0.9512\n",
      "Epoch 64/150\n",
      "7743/7743 [==============================] - 7s 944us/step - loss: 0.1337 - accuracy: 0.9512\n",
      "Epoch 65/150\n",
      "7743/7743 [==============================] - 7s 945us/step - loss: 0.1327 - accuracy: 0.9516\n",
      "Epoch 66/150\n",
      "7743/7743 [==============================] - 7s 944us/step - loss: 0.1332 - accuracy: 0.9520\n",
      "Epoch 67/150\n",
      "7743/7743 [==============================] - 7s 952us/step - loss: 0.1325 - accuracy: 0.9518\n",
      "Epoch 68/150\n",
      "7743/7743 [==============================] - 7s 952us/step - loss: 0.1321 - accuracy: 0.9518\n",
      "Epoch 69/150\n",
      "7743/7743 [==============================] - 7s 956us/step - loss: 0.1315 - accuracy: 0.9521\n",
      "Epoch 70/150\n",
      "7743/7743 [==============================] - 7s 950us/step - loss: 0.1316 - accuracy: 0.9525\n",
      "Epoch 71/150\n",
      "7743/7743 [==============================] - 7s 954us/step - loss: 0.1310 - accuracy: 0.9520\n",
      "Epoch 72/150\n",
      "7743/7743 [==============================] - 7s 950us/step - loss: 0.1308 - accuracy: 0.9527\n",
      "Epoch 73/150\n",
      "7743/7743 [==============================] - 7s 942us/step - loss: 0.1302 - accuracy: 0.9533\n",
      "Epoch 74/150\n",
      "7743/7743 [==============================] - 7s 945us/step - loss: 0.1305 - accuracy: 0.9525\n",
      "Epoch 75/150\n",
      "7743/7743 [==============================] - 7s 944us/step - loss: 0.1303 - accuracy: 0.9527\n",
      "Epoch 76/150\n",
      "7743/7743 [==============================] - 7s 943us/step - loss: 0.1300 - accuracy: 0.9525\n",
      "Epoch 77/150\n",
      "7743/7743 [==============================] - 7s 939us/step - loss: 0.1292 - accuracy: 0.9533\n",
      "Epoch 78/150\n",
      "7743/7743 [==============================] - 7s 949us/step - loss: 0.1293 - accuracy: 0.9529\n",
      "Epoch 79/150\n",
      "7743/7743 [==============================] - 7s 938us/step - loss: 0.1287 - accuracy: 0.9529\n",
      "Epoch 80/150\n",
      "7743/7743 [==============================] - 7s 952us/step - loss: 0.1281 - accuracy: 0.9541\n",
      "Epoch 81/150\n",
      "7743/7743 [==============================] - 7s 944us/step - loss: 0.1282 - accuracy: 0.9534\n",
      "Epoch 82/150\n",
      "7743/7743 [==============================] - 7s 938us/step - loss: 0.1284 - accuracy: 0.9534\n",
      "Epoch 83/150\n",
      "7743/7743 [==============================] - 7s 948us/step - loss: 0.1273 - accuracy: 0.9537\n",
      "Epoch 84/150\n",
      "7743/7743 [==============================] - 7s 947us/step - loss: 0.1276 - accuracy: 0.9539\n",
      "Epoch 85/150\n",
      "7743/7743 [==============================] - 7s 946us/step - loss: 0.1265 - accuracy: 0.9549\n",
      "Epoch 86/150\n",
      "7743/7743 [==============================] - 7s 941us/step - loss: 0.1267 - accuracy: 0.9543\n",
      "Epoch 87/150\n",
      "7743/7743 [==============================] - 7s 958us/step - loss: 0.1261 - accuracy: 0.9552\n",
      "Epoch 88/150\n",
      "7743/7743 [==============================] - 7s 948us/step - loss: 0.1257 - accuracy: 0.9548\n",
      "Epoch 89/150\n",
      "7743/7743 [==============================] - 7s 947us/step - loss: 0.1258 - accuracy: 0.9546\n",
      "Epoch 90/150\n",
      "7743/7743 [==============================] - 7s 953us/step - loss: 0.1262 - accuracy: 0.9544\n",
      "Epoch 91/150\n",
      "7743/7743 [==============================] - 8s 1ms/step - loss: 0.1253 - accuracy: 0.9546\n",
      "Epoch 92/150\n",
      "7743/7743 [==============================] - 7s 938us/step - loss: 0.1249 - accuracy: 0.9546\n",
      "Epoch 93/150\n",
      "7743/7743 [==============================] - 7s 940us/step - loss: 0.1247 - accuracy: 0.9551\n",
      "Epoch 94/150\n",
      "7743/7743 [==============================] - 7s 934us/step - loss: 0.1249 - accuracy: 0.9550\n",
      "Epoch 95/150\n",
      "7743/7743 [==============================] - 7s 932us/step - loss: 0.1247 - accuracy: 0.9550\n",
      "Epoch 96/150\n",
      "7743/7743 [==============================] - 7s 942us/step - loss: 0.1236 - accuracy: 0.9556\n",
      "Epoch 97/150\n",
      "7743/7743 [==============================] - 8s 1ms/step - loss: 0.1239 - accuracy: 0.9556\n",
      "Epoch 98/150\n",
      "7743/7743 [==============================] - 8s 971us/step - loss: 0.1235 - accuracy: 0.9558\n",
      "Epoch 99/150\n",
      "7743/7743 [==============================] - 7s 944us/step - loss: 0.1230 - accuracy: 0.9554\n",
      "Epoch 100/150\n",
      "7743/7743 [==============================] - 7s 950us/step - loss: 0.1238 - accuracy: 0.9557\n",
      "Epoch 101/150\n",
      "7743/7743 [==============================] - 7s 948us/step - loss: 0.1220 - accuracy: 0.9558\n",
      "Epoch 102/150\n",
      "7743/7743 [==============================] - 7s 950us/step - loss: 0.1227 - accuracy: 0.9562\n",
      "Epoch 103/150\n",
      "7743/7743 [==============================] - 7s 949us/step - loss: 0.1224 - accuracy: 0.9560\n",
      "Epoch 104/150\n",
      "7743/7743 [==============================] - 7s 952us/step - loss: 0.1225 - accuracy: 0.9560\n",
      "Epoch 105/150\n",
      "7743/7743 [==============================] - 7s 962us/step - loss: 0.1220 - accuracy: 0.9562\n",
      "Epoch 106/150\n",
      "7743/7743 [==============================] - 7s 952us/step - loss: 0.1211 - accuracy: 0.9566\n",
      "Epoch 107/150\n",
      "7743/7743 [==============================] - 7s 958us/step - loss: 0.1208 - accuracy: 0.9567\n",
      "Epoch 108/150\n",
      "7743/7743 [==============================] - 7s 952us/step - loss: 0.1208 - accuracy: 0.9569\n",
      "Epoch 109/150\n",
      "7743/7743 [==============================] - 7s 949us/step - loss: 0.1203 - accuracy: 0.9569\n",
      "Epoch 110/150\n",
      "7743/7743 [==============================] - 7s 941us/step - loss: 0.1210 - accuracy: 0.9563\n",
      "Epoch 111/150\n",
      "7743/7743 [==============================] - 7s 951us/step - loss: 0.1218 - accuracy: 0.9564\n",
      "Epoch 112/150\n",
      "7743/7743 [==============================] - 7s 955us/step - loss: 0.1203 - accuracy: 0.9568\n",
      "Epoch 113/150\n",
      "7743/7743 [==============================] - 7s 944us/step - loss: 0.1198 - accuracy: 0.9570\n",
      "Epoch 114/150\n",
      "7743/7743 [==============================] - 7s 958us/step - loss: 0.1201 - accuracy: 0.9569\n",
      "Epoch 115/150\n",
      "7743/7743 [==============================] - 7s 950us/step - loss: 0.1205 - accuracy: 0.9567\n",
      "Epoch 116/150\n",
      "7743/7743 [==============================] - 7s 950us/step - loss: 0.1192 - accuracy: 0.9572\n",
      "Epoch 117/150\n",
      "7743/7743 [==============================] - 7s 954us/step - loss: 0.1198 - accuracy: 0.9572\n",
      "Epoch 118/150\n",
      "7743/7743 [==============================] - 7s 942us/step - loss: 0.1190 - accuracy: 0.9578\n",
      "Epoch 119/150\n",
      "7743/7743 [==============================] - 7s 954us/step - loss: 0.1189 - accuracy: 0.9578\n",
      "Epoch 120/150\n",
      "7743/7743 [==============================] - 7s 951us/step - loss: 0.1189 - accuracy: 0.9575\n",
      "Epoch 121/150\n",
      "7743/7743 [==============================] - 7s 944us/step - loss: 0.1182 - accuracy: 0.9574\n",
      "Epoch 122/150\n",
      "7743/7743 [==============================] - 7s 940us/step - loss: 0.1193 - accuracy: 0.9571\n",
      "Epoch 123/150\n",
      "7743/7743 [==============================] - 7s 957us/step - loss: 0.1185 - accuracy: 0.9575\n",
      "Epoch 124/150\n",
      "7743/7743 [==============================] - 7s 941us/step - loss: 0.1174 - accuracy: 0.9581\n",
      "Epoch 125/150\n",
      "7743/7743 [==============================] - 7s 941us/step - loss: 0.1184 - accuracy: 0.9577\n",
      "Epoch 126/150\n",
      "7743/7743 [==============================] - 7s 945us/step - loss: 0.1174 - accuracy: 0.9581\n",
      "Epoch 127/150\n",
      "7743/7743 [==============================] - 7s 948us/step - loss: 0.1180 - accuracy: 0.9577\n",
      "Epoch 128/150\n",
      "7743/7743 [==============================] - 7s 942us/step - loss: 0.1176 - accuracy: 0.9574\n",
      "Epoch 129/150\n",
      "7743/7743 [==============================] - 7s 946us/step - loss: 0.1168 - accuracy: 0.9581\n",
      "Epoch 130/150\n",
      "7743/7743 [==============================] - 7s 966us/step - loss: 0.1178 - accuracy: 0.9578\n",
      "Epoch 131/150\n",
      "7743/7743 [==============================] - 7s 952us/step - loss: 0.1173 - accuracy: 0.9582\n",
      "Epoch 132/150\n",
      "7743/7743 [==============================] - 7s 951us/step - loss: 0.1168 - accuracy: 0.9584\n",
      "Epoch 133/150\n",
      "7743/7743 [==============================] - 7s 949us/step - loss: 0.1170 - accuracy: 0.9584\n",
      "Epoch 134/150\n",
      "7743/7743 [==============================] - 7s 947us/step - loss: 0.1170 - accuracy: 0.9583\n",
      "Epoch 135/150\n",
      "7743/7743 [==============================] - 7s 948us/step - loss: 0.1158 - accuracy: 0.9586\n",
      "Epoch 136/150\n",
      "7743/7743 [==============================] - 7s 947us/step - loss: 0.1165 - accuracy: 0.9585\n",
      "Epoch 137/150\n",
      "7743/7743 [==============================] - 7s 946us/step - loss: 0.1156 - accuracy: 0.9582\n",
      "Epoch 138/150\n",
      "7743/7743 [==============================] - 7s 951us/step - loss: 0.1163 - accuracy: 0.9584\n",
      "Epoch 139/150\n",
      "7743/7743 [==============================] - 7s 944us/step - loss: 0.1158 - accuracy: 0.9585\n",
      "Epoch 140/150\n",
      "7743/7743 [==============================] - 7s 957us/step - loss: 0.1153 - accuracy: 0.9584\n",
      "Epoch 141/150\n",
      "7743/7743 [==============================] - 7s 952us/step - loss: 0.1151 - accuracy: 0.9589\n",
      "Epoch 142/150\n",
      "7743/7743 [==============================] - 7s 955us/step - loss: 0.1148 - accuracy: 0.9595\n",
      "Epoch 143/150\n",
      "7743/7743 [==============================] - 7s 950us/step - loss: 0.1154 - accuracy: 0.9594\n",
      "Epoch 144/150\n",
      "7743/7743 [==============================] - 7s 950us/step - loss: 0.1150 - accuracy: 0.9588\n",
      "Epoch 145/150\n",
      "7743/7743 [==============================] - 7s 947us/step - loss: 0.1148 - accuracy: 0.9588\n",
      "Epoch 146/150\n",
      "7743/7743 [==============================] - 7s 942us/step - loss: 0.1152 - accuracy: 0.9588\n",
      "Epoch 147/150\n",
      "7743/7743 [==============================] - 7s 949us/step - loss: 0.1140 - accuracy: 0.9596\n",
      "Epoch 148/150\n",
      "7743/7743 [==============================] - 7s 952us/step - loss: 0.1144 - accuracy: 0.9594\n",
      "Epoch 149/150\n",
      "7743/7743 [==============================] - 7s 954us/step - loss: 0.1144 - accuracy: 0.9592\n",
      "Epoch 150/150\n",
      "7743/7743 [==============================] - 8s 972us/step - loss: 0.1141 - accuracy: 0.9590\n"
     ]
    }
   ],
   "source": [
    "model.compile(optimizer='adam',loss='binary_crossentropy',metrics=['accuracy'])\n",
    "\n",
    "epochs_hist = model.fit(X_train_s,y_train_s,epochs=150,batch_size=20)"
   ]
  },
  {
   "cell_type": "code",
   "execution_count": 34,
   "id": "dff1df9f",
   "metadata": {},
   "outputs": [
    {
     "data": {
      "text/plain": [
       "Text(0.5, 1.0, 'Loss and Accuracy plot')"
      ]
     },
     "execution_count": 34,
     "metadata": {},
     "output_type": "execute_result"
    },
    {
     "data": {
      "image/png": "[encoded data removed]",
      "text/plain": [
       "<Figure size 432x288 with 1 Axes>"
      ]
     },
     "metadata": {
      "needs_background": "light"
     },
     "output_type": "display_data"
    }
   ],
   "source": [
    "y_pred=model.predict(X_test)\n",
    "\n",
    "y_pred = (y_pred>0.5)\n",
    "\n",
    "plt.plot(epochs_hist.history['loss'])\n",
    "plt.plot(epochs_hist.history['accuracy'])\n",
    "plt.xlabel('Epochs')\n",
    "plt.ylabel('percentage')\n",
    "plt.legend(['loss','accuracy'])\n",
    "plt.title('Loss and Accuracy plot')"
   ]
  },
  {
   "cell_type": "code",
   "execution_count": 35,
   "id": "f2f20e80",
   "metadata": {},
   "outputs": [
    {
     "name": "stdout",
     "output_type": "stream",
     "text": [
      "              precision    recall  f1-score   support\n",
      "\n",
      "           0       0.96      0.93      0.95     33147\n",
      "           1       0.26      0.41      0.32      2055\n",
      "\n",
      "    accuracy                           0.90     35202\n",
      "   macro avg       0.61      0.67      0.63     35202\n",
      "weighted avg       0.92      0.90      0.91     35202\n",
      "\n"
     ]
    }
   ],
   "source": [
    "print(classification_report(y_test,y_pred))"
   ]
  },
  {
   "cell_type": "code",
   "execution_count": 20,
   "id": "22a3750d",
   "metadata": {},
   "outputs": [],
   "source": [
    "# y_train_res = y_train_s.reshape(-1, 1)\n",
    "# data_res = np.concatenate((X_train_s, y_train_s), axis = 0)\n",
    "# data_res"
   ]
  },
  {
   "cell_type": "markdown",
   "id": "d378f9c0",
   "metadata": {},
   "source": [
    "## RFE"
   ]
  },
  {
   "cell_type": "code",
   "execution_count": 11,
   "id": "ec263c31",
   "metadata": {},
   "outputs": [
    {
     "data": {
      "text/plain": [
       "RFECV(cv=StratifiedKFold(n_splits=5, random_state=42, shuffle=True),\n",
       "      estimator=RandomForestClassifier(random_state=42), scoring='accuracy')"
      ]
     },
     "execution_count": 11,
     "metadata": {},
     "output_type": "execute_result"
    }
   ],
   "source": [
    "from sklearn.feature_selection import RFECV\n",
    "from sklearn.model_selection import cross_validate, RepeatedStratifiedKFold, learning_curve, cross_val_score, RandomizedSearchCV, train_test_split, StratifiedKFold\n",
    "\n",
    "rfecv = RFECV(estimator=rfc, cv=StratifiedKFold(5, random_state=42, shuffle=True), scoring=\"accuracy\")\n",
    "rfecv.fit(X_train_s, y_train_s)"
   ]
  },
  {
   "cell_type": "code",
   "execution_count": 12,
   "id": "7e46b77b",
   "metadata": {},
   "outputs": [
    {
     "data": {
      "text/plain": [
       "95"
      ]
     },
     "execution_count": 12,
     "metadata": {},
     "output_type": "execute_result"
    }
   ],
   "source": [
    "rfecv.n_features_"
   ]
  },
  {
   "cell_type": "code",
   "execution_count": 22,
   "id": "4d4d9634",
   "metadata": {},
   "outputs": [],
   "source": [
    "X_rfe = X_train_s.iloc[:, rfecv.support_]"
   ]
  },
  {
   "cell_type": "code",
   "execution_count": 23,
   "id": "630f8db1",
   "metadata": {},
   "outputs": [
    {
     "name": "stdout",
     "output_type": "stream",
     "text": [
      "\"X\" dimension: (154856, 104)\n",
      "\"X\" column list: ['disrict', 'client_catg', 'region', 'region_group', 'coop_time', 'is_weekday_mean', 'transactions_count', 'tarif_type_mean', 'tarif_type_std', 'tarif_type_min', 'tarif_type_max', 'counter_number_mean', 'counter_number_std', 'counter_number_min', 'counter_number_max', 'counter_statue_mean', 'counter_statue_std', 'counter_statue_min', 'counter_statue_max', 'counter_code_mean', 'counter_code_std', 'counter_code_min', 'counter_code_max', 'reading_remarque_mean', 'reading_remarque_std', 'reading_remarque_min', 'reading_remarque_max', 'consommation_level_1_mean', 'consommation_level_1_std', 'consommation_level_1_min', 'consommation_level_1_max', 'consommation_level_2_mean', 'consommation_level_2_std', 'consommation_level_2_min', 'consommation_level_2_max', 'consommation_level_3_mean', 'consommation_level_3_std', 'consommation_level_3_min', 'consommation_level_3_max', 'consommation_level_4_mean', 'consommation_level_4_std', 'consommation_level_4_min', 'consommation_level_4_max', 'old_index_mean', 'old_index_std', 'old_index_min', 'old_index_max', 'new_index_mean', 'new_index_std', 'new_index_min', 'new_index_max', 'months_number_mean', 'months_number_std', 'months_number_min', 'months_number_max', 'counter_type_mean', 'counter_type_std', 'counter_type_min', 'counter_type_max', 'invoice_month_mean', 'invoice_month_std', 'invoice_month_min', 'invoice_month_max', 'invoice_year_mean', 'invoice_year_std', 'invoice_year_min', 'invoice_year_max', 'delta_index_mean', 'delta_index_std', 'delta_index_min', 'delta_index_max', 'delta_time_mean', 'delta_time_std', 'delta_time_min', 'delta_time_max', 'invoice_per_cooperation', 'tarif_type_range', 'tarif_type_max_mean', 'counter_number_range', 'counter_number_max_mean', 'counter_statue_range', 'counter_code_range', 'counter_code_max_mean', 'reading_remarque_range', 'reading_remarque_max_mean', 'consommation_level_1_range', 'consommation_level_1_max_mean', 'consommation_level_2_range', 'consommation_level_3_range', 'consommation_level_4_range', 'old_index_range', 'old_index_max_mean', 'new_index_range', 'new_index_max_mean', 'months_number_range', 'months_number_max_mean', 'counter_type_range', 'counter_type_max_mean', 'invoice_month_range', 'invoice_month_max_mean', 'invoice_year_range', 'invoice_year_max_mean', 'delta_index_range', 'delta_index_max_mean']\n",
      "\"X_rfe\" dimension: (154856, 95)\n",
      "\"X_rfe\" column list: ['disrict', 'region', 'region_group', 'coop_time', 'is_weekday_mean', 'transactions_count', 'tarif_type_mean', 'tarif_type_std', 'tarif_type_min', 'tarif_type_max', 'counter_number_mean', 'counter_number_std', 'counter_number_min', 'counter_number_max', 'counter_statue_mean', 'counter_statue_std', 'counter_statue_max', 'counter_code_mean', 'counter_code_std', 'counter_code_min', 'counter_code_max', 'reading_remarque_mean', 'reading_remarque_std', 'consommation_level_1_mean', 'consommation_level_1_std', 'consommation_level_1_min', 'consommation_level_1_max', 'consommation_level_2_mean', 'consommation_level_2_std', 'consommation_level_2_max', 'consommation_level_3_mean', 'consommation_level_3_std', 'consommation_level_3_max', 'consommation_level_4_mean', 'consommation_level_4_std', 'consommation_level_4_max', 'old_index_mean', 'old_index_std', 'old_index_min', 'old_index_max', 'new_index_mean', 'new_index_std', 'new_index_min', 'new_index_max', 'months_number_mean', 'months_number_std', 'months_number_min', 'months_number_max', 'counter_type_mean', 'counter_type_std', 'counter_type_min', 'invoice_month_mean', 'invoice_month_std', 'invoice_month_min', 'invoice_month_max', 'invoice_year_mean', 'invoice_year_std', 'invoice_year_min', 'invoice_year_max', 'delta_index_mean', 'delta_index_std', 'delta_index_min', 'delta_index_max', 'delta_time_mean', 'delta_time_std', 'delta_time_min', 'delta_time_max', 'invoice_per_cooperation', 'tarif_type_range', 'tarif_type_max_mean', 'counter_number_range', 'counter_number_max_mean', 'counter_statue_range', 'counter_code_range', 'counter_code_max_mean', 'reading_remarque_range', 'reading_remarque_max_mean', 'consommation_level_1_range', 'consommation_level_1_max_mean', 'consommation_level_2_range', 'consommation_level_3_range', 'consommation_level_4_range', 'old_index_range', 'old_index_max_mean', 'new_index_range', 'new_index_max_mean', 'months_number_range', 'months_number_max_mean', 'counter_type_max_mean', 'invoice_month_range', 'invoice_month_max_mean', 'invoice_year_range', 'invoice_year_max_mean', 'delta_index_range', 'delta_index_max_mean']\n"
     ]
    }
   ],
   "source": [
    "print(\"\\\"X\\\" dimension: {}\".format(X_train_s.shape))\n",
    "print(\"\\\"X\\\" column list:\", X_train_s.columns.tolist())\n",
    "print(\"\\\"X_rfe\\\" dimension: {}\".format(X_rfe.shape))\n",
    "print(\"\\\"X_rfe\\\" column list:\", X_rfe.columns.tolist())"
   ]
  },
  {
   "cell_type": "code",
   "execution_count": 26,
   "id": "c15e268e",
   "metadata": {},
   "outputs": [
    {
     "name": "stdout",
     "output_type": "stream",
     "text": [
      "Train size: 108399\n",
      "Test size: 46457\n"
     ]
    }
   ],
   "source": [
    "X_rfe_train, X_rfe_test, y_train, y_test = train_test_split(X_rfe, y_train_s, \n",
    "                                                                             test_size=0.3, \n",
    "                                                                             stratify=y_train_s,\n",
    "                                                                             random_state=42)\n",
    "print(\"Train size: {}\".format(len(y_train_r)))\n",
    "print(\"Test size: {}\".format(len(y_test_r)))"
   ]
  },
  {
   "cell_type": "code",
   "execution_count": 43,
   "id": "63028d34",
   "metadata": {},
   "outputs": [],
   "source": [
    "# helping function\n",
    "\n",
    "def conf(algo_name,X_test, y_test):\n",
    "    y_pred = algo_name.predict(X_test)\n",
    "    forest_cm = metrics.confusion_matrix(y_pred, y_test, [1,0])\n",
    "    sns.heatmap(forest_cm, annot=True, fmt='.2f',xticklabels = [\"1\", \"0\"] , yticklabels = [\"1\", \"0\"] )\n",
    "    plt.ylabel('True class')\n",
    "    plt.xlabel('Predicted class')\n",
    "    plt.title(str(algo_name)[0:str(algo_name).find('(')])"
   ]
  },
  {
   "cell_type": "code",
   "execution_count": 28,
   "id": "f022253a",
   "metadata": {},
   "outputs": [],
   "source": [
    "results_test = {}\n",
    "results_train = {}\n",
    "list_algos=[]\n",
    "\n",
    "def predict(algo_name,X_train,y_train,X_test,y_test, atype='',verbose=0):\n",
    "    algo_name.fit(X_train, y_train)\n",
    "    Y_pred = algo_name.predict(X_test)\n",
    "    acc_train = round(algo_name.score(X_train, y_train) * 100, 2)\n",
    "    acc_val = round(algo_name.score(X_test, y_test) * 100, 2)\n",
    "    \n",
    "    results_test[str(algo_name)[0:str(algo_name).find('(')]+'_'+str(atype)] = acc_val\n",
    "    results_train[str(algo_name)[0:str(algo_name).find('(')]+'_'+str(atype)] = acc_train\n",
    "    list_algos.append(str(algo_name)[0:str(algo_name).find('(')])\n",
    "    if verbose ==0:\n",
    "        print(\"Training Accuracy: \" + str(acc_train))\n",
    "        print(\"Testing  Accuracy: \"+ str(acc_val))\n",
    "    else:\n",
    "        return Y_pred"
   ]
  },
  {
   "cell_type": "code",
   "execution_count": 29,
   "id": "ca6f6ab8",
   "metadata": {},
   "outputs": [
    {
     "name": "stdout",
     "output_type": "stream",
     "text": [
      "Training Accuracy: 99.36\n",
      "Testing  Accuracy: 95.87\n",
      "              precision    recall  f1-score   support\n",
      "\n",
      "           0       0.98      0.94      0.96     23229\n",
      "           1       0.94      0.98      0.96     23228\n",
      "\n",
      "    accuracy                           0.96     46457\n",
      "   macro avg       0.96      0.96      0.96     46457\n",
      "weighted avg       0.96      0.96      0.96     46457\n",
      "\n"
     ]
    }
   ],
   "source": [
    "# KNN\n",
    "\n",
    "knneig = KNeighborsClassifier(n_neighbors=2)\n",
    "knneig.fit(X_rfe_train, y_train)\n",
    "predict(knneig,X_rfe_train,y_train,X_rfe_test,y_test)\n",
    "print(classification_report(y_test, knneig.predict(X_rfe_test)))"
   ]
  },
  {
   "cell_type": "code",
   "execution_count": 30,
   "id": "62252b97",
   "metadata": {},
   "outputs": [
    {
     "name": "stdout",
     "output_type": "stream",
     "text": [
      "Training Accuracy: 100.0\n",
      "Testing  Accuracy: 97.06\n",
      "              precision    recall  f1-score   support\n",
      "\n",
      "           0       0.96      0.98      0.97     23229\n",
      "           1       0.98      0.96      0.97     23228\n",
      "\n",
      "    accuracy                           0.97     46457\n",
      "   macro avg       0.97      0.97      0.97     46457\n",
      "weighted avg       0.97      0.97      0.97     46457\n",
      "\n"
     ]
    }
   ],
   "source": [
    "#RF\n",
    "\n",
    "rf = RandomForestClassifier(n_estimators=250, random_state = 42)\n",
    "predict(rf,X_rfe_train,y_train,X_rfe_test,y_test)\n",
    "print(classification_report(y_test, rf.predict(X_rfe_test)))"
   ]
  },
  {
   "cell_type": "code",
   "execution_count": 44,
   "id": "e376ebc0",
   "metadata": {},
   "outputs": [
    {
     "name": "stderr",
     "output_type": "stream",
     "text": [
      "C:\\Users\\moinu\\anaconda3\\lib\\site-packages\\sklearn\\utils\\validation.py:70: FutureWarning: Pass labels=[1, 0] as keyword args. From version 1.0 (renaming of 0.25) passing these as positional arguments will result in an error\n",
      "  warnings.warn(f\"Pass {args_msg} as keyword args. From version \"\n"
     ]
    },
    {
     "data": {
      "image/png": "[encoded data removed]",
      "text/plain": [
       "<Figure size 432x288 with 2 Axes>"
      ]
     },
     "metadata": {
      "needs_background": "light"
     },
     "output_type": "display_data"
    }
   ],
   "source": [
    "conf(rf,X_rfe_test, y_test)"
   ]
  },
  {
   "cell_type": "code",
   "execution_count": 32,
   "id": "49a5aa61",
   "metadata": {},
   "outputs": [
    {
     "name": "stdout",
     "output_type": "stream",
     "text": [
      "Training Accuracy: 80.71\n",
      "Testing  Accuracy: 80.45\n",
      "              precision    recall  f1-score   support\n",
      "\n",
      "           0       0.78      0.86      0.81     23229\n",
      "           1       0.84      0.75      0.79     23228\n",
      "\n",
      "    accuracy                           0.80     46457\n",
      "   macro avg       0.81      0.80      0.80     46457\n",
      "weighted avg       0.81      0.80      0.80     46457\n",
      "\n"
     ]
    },
    {
     "name": "stderr",
     "output_type": "stream",
     "text": [
      "C:\\Users\\moinu\\anaconda3\\lib\\site-packages\\sklearn\\linear_model\\_logistic.py:763: ConvergenceWarning: lbfgs failed to converge (status=1):\n",
      "STOP: TOTAL NO. of ITERATIONS REACHED LIMIT.\n",
      "\n",
      "Increase the number of iterations (max_iter) or scale the data as shown in:\n",
      "    https://scikit-learn.org/stable/modules/preprocessing.html\n",
      "Please also refer to the documentation for alternative solver options:\n",
      "    https://scikit-learn.org/stable/modules/linear_model.html#logistic-regression\n",
      "  n_iter_i = _check_optimize_result(\n"
     ]
    }
   ],
   "source": [
    "#LR\n",
    "\n",
    "lr = LogisticRegression()\n",
    "predict(lr,X_rfe_train,y_train,X_rfe_test,y_test)\n",
    "print(classification_report(y_test, lr.predict(X_rfe_test)))"
   ]
  },
  {
   "cell_type": "code",
   "execution_count": 33,
   "id": "523f2ee4",
   "metadata": {},
   "outputs": [
    {
     "name": "stdout",
     "output_type": "stream",
     "text": [
      "Training Accuracy: 93.35\n",
      "Testing  Accuracy: 93.22\n",
      "              precision    recall  f1-score   support\n",
      "\n",
      "           0       0.91      0.95      0.93     23229\n",
      "           1       0.95      0.91      0.93     23228\n",
      "\n",
      "    accuracy                           0.93     46457\n",
      "   macro avg       0.93      0.93      0.93     46457\n",
      "weighted avg       0.93      0.93      0.93     46457\n",
      "\n"
     ]
    }
   ],
   "source": [
    "# GBC\n",
    "\n",
    "gbc = GradientBoostingClassifier()\n",
    "predict(gbc,X_rfe_train,y_train,X_rfe_test,y_test)\n",
    "print(classification_report(y_test, gbc.predict(X_rfe_test)))"
   ]
  },
  {
   "cell_type": "code",
   "execution_count": 34,
   "id": "e6a38d4b",
   "metadata": {},
   "outputs": [
    {
     "name": "stdout",
     "output_type": "stream",
     "text": [
      "Training Accuracy: 90.14\n",
      "Testing  Accuracy: 90.21\n",
      "              precision    recall  f1-score   support\n",
      "\n",
      "           0       0.89      0.92      0.90     23229\n",
      "           1       0.91      0.89      0.90     23228\n",
      "\n",
      "    accuracy                           0.90     46457\n",
      "   macro avg       0.90      0.90      0.90     46457\n",
      "weighted avg       0.90      0.90      0.90     46457\n",
      "\n"
     ]
    }
   ],
   "source": [
    "# ADA\n",
    "\n",
    "ada = AdaBoostClassifier()\n",
    "predict(ada,X_rfe_train,y_train,X_rfe_test,y_test)\n",
    "print(classification_report(y_test, ada.predict(X_rfe_test)))"
   ]
  },
  {
   "cell_type": "code",
   "execution_count": 35,
   "id": "7a698014",
   "metadata": {},
   "outputs": [
    {
     "name": "stderr",
     "output_type": "stream",
     "text": [
      "C:\\Users\\moinu\\anaconda3\\lib\\site-packages\\xgboost\\sklearn.py:1146: UserWarning: The use of label encoder in XGBClassifier is deprecated and will be removed in a future release. To remove this warning, do the following: 1) Pass option use_label_encoder=False when constructing XGBClassifier object; and 2) Encode your labels (y) as integers starting with 0, i.e. 0, 1, 2, ..., [num_class - 1].\n",
      "  warnings.warn(label_encoder_deprecation_msg, UserWarning)\n"
     ]
    },
    {
     "name": "stdout",
     "output_type": "stream",
     "text": [
      "[15:52:48] WARNING: ..\\src\\learner.cc:1095: Starting in XGBoost 1.3.0, the default evaluation metric used with the objective 'binary:logistic' was changed from 'error' to 'logloss'. Explicitly set eval_metric if you'd like to restore the old behavior.\n"
     ]
    },
    {
     "name": "stderr",
     "output_type": "stream",
     "text": [
      "C:\\Users\\moinu\\anaconda3\\lib\\site-packages\\xgboost\\data.py:112: UserWarning: Use subset (sliced data) of np.ndarray is not recommended because it will generate extra copies and increase memory consumption\n",
      "  warnings.warn(\n",
      "C:\\Users\\moinu\\anaconda3\\lib\\site-packages\\xgboost\\data.py:112: UserWarning: Use subset (sliced data) of np.ndarray is not recommended because it will generate extra copies and increase memory consumption\n",
      "  warnings.warn(\n"
     ]
    },
    {
     "name": "stdout",
     "output_type": "stream",
     "text": [
      "Training Accuracy: 97.98\n",
      "Testing  Accuracy: 96.96\n",
      "              precision    recall  f1-score   support\n",
      "\n",
      "           0       0.96      0.98      0.97     23229\n",
      "           1       0.98      0.96      0.97     23228\n",
      "\n",
      "    accuracy                           0.97     46457\n",
      "   macro avg       0.97      0.97      0.97     46457\n",
      "weighted avg       0.97      0.97      0.97     46457\n",
      "\n"
     ]
    },
    {
     "name": "stderr",
     "output_type": "stream",
     "text": [
      "C:\\Users\\moinu\\anaconda3\\lib\\site-packages\\xgboost\\data.py:112: UserWarning: Use subset (sliced data) of np.ndarray is not recommended because it will generate extra copies and increase memory consumption\n",
      "  warnings.warn(\n"
     ]
    }
   ],
   "source": [
    "#xgb\n",
    "\n",
    "xg = xgb.XGBClassifier()\n",
    "predict(xg,X_rfe_train,y_train,X_rfe_test,y_test)\n",
    "print(classification_report(y_test, xg.predict(X_rfe_test)))"
   ]
  },
  {
   "cell_type": "code",
   "execution_count": 36,
   "id": "9f2b75f9",
   "metadata": {},
   "outputs": [
    {
     "name": "stderr",
     "output_type": "stream",
     "text": [
      "C:\\Users\\moinu\\anaconda3\\lib\\site-packages\\sklearn\\neural_network\\_multilayer_perceptron.py:614: ConvergenceWarning: Stochastic Optimizer: Maximum iterations (200) reached and the optimization hasn't converged yet.\n",
      "  warnings.warn(\n"
     ]
    },
    {
     "name": "stdout",
     "output_type": "stream",
     "text": [
      "Training Accuracy: 90.9\n",
      "Testing  Accuracy: 90.18\n",
      "              precision    recall  f1-score   support\n",
      "\n",
      "           0       0.92      0.88      0.90     23229\n",
      "           1       0.89      0.92      0.90     23228\n",
      "\n",
      "    accuracy                           0.90     46457\n",
      "   macro avg       0.90      0.90      0.90     46457\n",
      "weighted avg       0.90      0.90      0.90     46457\n",
      "\n"
     ]
    }
   ],
   "source": [
    "#MLP\n",
    "\n",
    "from sklearn.neural_network import MLPClassifier\n",
    "mlp = MLPClassifier(random_state=1)\n",
    "predict(mlp,X_rfe_train,y_train,X_rfe_test,y_test)\n",
    "print(classification_report(y_test, mlp.predict(X_rfe_test)))"
   ]
  },
  {
   "cell_type": "code",
   "execution_count": 37,
   "id": "7509ba20",
   "metadata": {},
   "outputs": [],
   "source": [
    "import tensorflow as tf\n",
    "model= tf.keras.models.Sequential()\n",
    "model.add(tf.keras.layers.Dense(units=64,activation='relu',input_shape= (95,)))\n",
    "model.add(tf.keras.layers.Dense(units=128,activation='relu'))\n",
    "model.add(tf.keras.layers.Dense(units=1,activation='sigmoid'))"
   ]
  },
  {
   "cell_type": "code",
   "execution_count": 38,
   "id": "c099d78a",
   "metadata": {},
   "outputs": [
    {
     "name": "stdout",
     "output_type": "stream",
     "text": [
      "Model: \"sequential\"\n",
      "_________________________________________________________________\n",
      "Layer (type)                 Output Shape              Param #   \n",
      "=================================================================\n",
      "dense (Dense)                (None, 64)                6144      \n",
      "_________________________________________________________________\n",
      "dense_1 (Dense)              (None, 128)               8320      \n",
      "_________________________________________________________________\n",
      "dense_2 (Dense)              (None, 1)                 129       \n",
      "=================================================================\n",
      "Total params: 14,593\n",
      "Trainable params: 14,593\n",
      "Non-trainable params: 0\n",
      "_________________________________________________________________\n"
     ]
    }
   ],
   "source": [
    "model.summary()"
   ]
  },
  {
   "cell_type": "code",
   "execution_count": 39,
   "id": "fc053e5b",
   "metadata": {},
   "outputs": [
    {
     "name": "stdout",
     "output_type": "stream",
     "text": [
      "Epoch 1/150\n",
      "5420/5420 [==============================] - 5s 944us/step - loss: 0.3896 - accuracy: 0.8122\n",
      "Epoch 2/150\n",
      "5420/5420 [==============================] - 5s 915us/step - loss: 0.3571 - accuracy: 0.8321\n",
      "Epoch 3/150\n",
      "5420/5420 [==============================] - 5s 930us/step - loss: 0.3421 - accuracy: 0.8400\n",
      "Epoch 4/150\n",
      "5420/5420 [==============================] - 5s 917us/step - loss: 0.3316 - accuracy: 0.8473\n",
      "Epoch 5/150\n",
      "5420/5420 [==============================] - 5s 916us/step - loss: 0.3241 - accuracy: 0.8500\n",
      "Epoch 6/150\n",
      "5420/5420 [==============================] - 5s 913us/step - loss: 0.3180 - accuracy: 0.8539\n",
      "Epoch 7/150\n",
      "5420/5420 [==============================] - 5s 948us/step - loss: 0.3095 - accuracy: 0.8592\n",
      "Epoch 8/150\n",
      "5420/5420 [==============================] - 5s 944us/step - loss: 0.3041 - accuracy: 0.8613\n",
      "Epoch 9/150\n",
      "5420/5420 [==============================] - 5s 949us/step - loss: 0.2971 - accuracy: 0.8665\n",
      "Epoch 10/150\n",
      "5420/5420 [==============================] - 5s 949us/step - loss: 0.2935 - accuracy: 0.8699\n",
      "Epoch 11/150\n",
      "5420/5420 [==============================] - 5s 957us/step - loss: 0.2891 - accuracy: 0.8719\n",
      "Epoch 12/150\n",
      "5420/5420 [==============================] - 5s 937us/step - loss: 0.2833 - accuracy: 0.8755\n",
      "Epoch 13/150\n",
      "5420/5420 [==============================] - 5s 959us/step - loss: 0.2798 - accuracy: 0.8766\n",
      "Epoch 14/150\n",
      "5420/5420 [==============================] - 5s 960us/step - loss: 0.2758 - accuracy: 0.8786\n",
      "Epoch 15/150\n",
      "5420/5420 [==============================] - 5s 962us/step - loss: 0.2711 - accuracy: 0.8825\n",
      "Epoch 16/150\n",
      "5420/5420 [==============================] - 5s 944us/step - loss: 0.2682 - accuracy: 0.8831\n",
      "Epoch 17/150\n",
      "5420/5420 [==============================] - 5s 969us/step - loss: 0.2644 - accuracy: 0.8852\n",
      "Epoch 18/150\n",
      "5420/5420 [==============================] - 5s 972us/step - loss: 0.2605 - accuracy: 0.8882\n",
      "Epoch 19/150\n",
      "5420/5420 [==============================] - 5s 954us/step - loss: 0.2575 - accuracy: 0.8895\n",
      "Epoch 20/150\n",
      "5420/5420 [==============================] - 5s 958us/step - loss: 0.2546 - accuracy: 0.8915\n",
      "Epoch 21/150\n",
      "5420/5420 [==============================] - 5s 965us/step - loss: 0.2519 - accuracy: 0.8929\n",
      "Epoch 22/150\n",
      "5420/5420 [==============================] - 5s 963us/step - loss: 0.2493 - accuracy: 0.8943\n",
      "Epoch 23/150\n",
      "5420/5420 [==============================] - 5s 969us/step - loss: 0.2462 - accuracy: 0.8962\n",
      "Epoch 24/150\n",
      "5420/5420 [==============================] - 5s 949us/step - loss: 0.2448 - accuracy: 0.8965\n",
      "Epoch 25/150\n",
      "5420/5420 [==============================] - 5s 946us/step - loss: 0.2412 - accuracy: 0.8986\n",
      "Epoch 26/150\n",
      "5420/5420 [==============================] - 5s 954us/step - loss: 0.2381 - accuracy: 0.9005\n",
      "Epoch 27/150\n",
      "5420/5420 [==============================] - 5s 984us/step - loss: 0.2364 - accuracy: 0.9017\n",
      "Epoch 28/150\n",
      "5420/5420 [==============================] - 5s 946us/step - loss: 0.2342 - accuracy: 0.9025\n",
      "Epoch 29/150\n",
      "5420/5420 [==============================] - 5s 952us/step - loss: 0.2321 - accuracy: 0.9045\n",
      "Epoch 30/150\n",
      "5420/5420 [==============================] - 5s 954us/step - loss: 0.2307 - accuracy: 0.9043\n",
      "Epoch 31/150\n",
      "5420/5420 [==============================] - 5s 953us/step - loss: 0.2280 - accuracy: 0.9047\n",
      "Epoch 32/150\n",
      "5420/5420 [==============================] - 5s 959us/step - loss: 0.2265 - accuracy: 0.9064\n",
      "Epoch 33/150\n",
      "5420/5420 [==============================] - 5s 970us/step - loss: 0.2237 - accuracy: 0.9081\n",
      "Epoch 34/150\n",
      "5420/5420 [==============================] - 5s 964us/step - loss: 0.2228 - accuracy: 0.9082\n",
      "Epoch 35/150\n",
      "5420/5420 [==============================] - 5s 942us/step - loss: 0.2204 - accuracy: 0.9102\n",
      "Epoch 36/150\n",
      "5420/5420 [==============================] - 5s 952us/step - loss: 0.2185 - accuracy: 0.9112\n",
      "Epoch 37/150\n",
      "5420/5420 [==============================] - 5s 948us/step - loss: 0.2163 - accuracy: 0.9120\n",
      "Epoch 38/150\n",
      "5420/5420 [==============================] - 5s 950us/step - loss: 0.2142 - accuracy: 0.9141\n",
      "Epoch 39/150\n",
      "5420/5420 [==============================] - 5s 960us/step - loss: 0.2124 - accuracy: 0.9139\n",
      "Epoch 40/150\n",
      "5420/5420 [==============================] - 5s 954us/step - loss: 0.2115 - accuracy: 0.9150\n",
      "Epoch 41/150\n",
      "5420/5420 [==============================] - 5s 949us/step - loss: 0.2095 - accuracy: 0.9153\n",
      "Epoch 42/150\n",
      "5420/5420 [==============================] - 5s 950us/step - loss: 0.2074 - accuracy: 0.9169\n",
      "Epoch 43/150\n",
      "5420/5420 [==============================] - 5s 954us/step - loss: 0.2055 - accuracy: 0.9176\n",
      "Epoch 44/150\n",
      "5420/5420 [==============================] - 5s 956us/step - loss: 0.2041 - accuracy: 0.9186\n",
      "Epoch 45/150\n",
      "5420/5420 [==============================] - 5s 963us/step - loss: 0.2016 - accuracy: 0.9202\n",
      "Epoch 46/150\n",
      "5420/5420 [==============================] - 5s 951us/step - loss: 0.2005 - accuracy: 0.9207\n",
      "Epoch 47/150\n",
      "5420/5420 [==============================] - 5s 965us/step - loss: 0.1998 - accuracy: 0.9213\n",
      "Epoch 48/150\n",
      "5420/5420 [==============================] - 5s 962us/step - loss: 0.1984 - accuracy: 0.9221\n",
      "Epoch 49/150\n",
      "5420/5420 [==============================] - 5s 957us/step - loss: 0.1964 - accuracy: 0.9227\n",
      "Epoch 50/150\n",
      "5420/5420 [==============================] - 5s 963us/step - loss: 0.1949 - accuracy: 0.9226\n",
      "Epoch 51/150\n",
      "5420/5420 [==============================] - 5s 961us/step - loss: 0.1939 - accuracy: 0.9236\n",
      "Epoch 52/150\n",
      "5420/5420 [==============================] - 5s 963us/step - loss: 0.1921 - accuracy: 0.9255\n",
      "Epoch 53/150\n",
      "5420/5420 [==============================] - 5s 976us/step - loss: 0.1917 - accuracy: 0.9257\n",
      "Epoch 54/150\n",
      "5420/5420 [==============================] - 5s 953us/step - loss: 0.1906 - accuracy: 0.9257\n",
      "Epoch 55/150\n",
      "5420/5420 [==============================] - 5s 952us/step - loss: 0.1890 - accuracy: 0.9260\n",
      "Epoch 56/150\n",
      "5420/5420 [==============================] - 5s 950us/step - loss: 0.1878 - accuracy: 0.9270\n",
      "Epoch 57/150\n",
      "5420/5420 [==============================] - 5s 952us/step - loss: 0.1863 - accuracy: 0.9277\n",
      "Epoch 58/150\n",
      "5420/5420 [==============================] - 5s 964us/step - loss: 0.1859 - accuracy: 0.9280\n",
      "Epoch 59/150\n",
      "5420/5420 [==============================] - 5s 950us/step - loss: 0.1847 - accuracy: 0.9286\n",
      "Epoch 60/150\n",
      "5420/5420 [==============================] - 5s 951us/step - loss: 0.1840 - accuracy: 0.9289\n",
      "Epoch 61/150\n",
      "5420/5420 [==============================] - 5s 959us/step - loss: 0.1816 - accuracy: 0.9293\n",
      "Epoch 62/150\n",
      "5420/5420 [==============================] - 5s 972us/step - loss: 0.1817 - accuracy: 0.9299\n",
      "Epoch 63/150\n",
      "5420/5420 [==============================] - 5s 946us/step - loss: 0.1804 - accuracy: 0.9295\n",
      "Epoch 64/150\n",
      "5420/5420 [==============================] - 5s 971us/step - loss: 0.1792 - accuracy: 0.9316\n",
      "Epoch 65/150\n",
      "5420/5420 [==============================] - 5s 965us/step - loss: 0.1781 - accuracy: 0.9312\n",
      "Epoch 66/150\n",
      "5420/5420 [==============================] - 5s 957us/step - loss: 0.1772 - accuracy: 0.9320\n",
      "Epoch 67/150\n",
      "5420/5420 [==============================] - 5s 966us/step - loss: 0.1766 - accuracy: 0.9323\n",
      "Epoch 68/150\n",
      "5420/5420 [==============================] - 5s 976us/step - loss: 0.1756 - accuracy: 0.9323\n",
      "Epoch 69/150\n",
      "5420/5420 [==============================] - 5s 969us/step - loss: 0.1752 - accuracy: 0.9328\n",
      "Epoch 70/150\n",
      "5420/5420 [==============================] - 5s 964us/step - loss: 0.1739 - accuracy: 0.9330\n",
      "Epoch 71/150\n",
      "5420/5420 [==============================] - 5s 962us/step - loss: 0.1726 - accuracy: 0.9339\n",
      "Epoch 72/150\n",
      "5420/5420 [==============================] - 5s 959us/step - loss: 0.1720 - accuracy: 0.9337\n",
      "Epoch 73/150\n",
      "5420/5420 [==============================] - 5s 965us/step - loss: 0.1719 - accuracy: 0.9340\n",
      "Epoch 74/150\n",
      "5420/5420 [==============================] - 5s 988us/step - loss: 0.1711 - accuracy: 0.9347\n",
      "Epoch 75/150\n",
      "5420/5420 [==============================] - 5s 963us/step - loss: 0.1691 - accuracy: 0.9360\n",
      "Epoch 76/150\n",
      "5420/5420 [==============================] - 5s 968us/step - loss: 0.1682 - accuracy: 0.9361\n",
      "Epoch 77/150\n",
      "5420/5420 [==============================] - 5s 973us/step - loss: 0.1687 - accuracy: 0.9357\n",
      "Epoch 78/150\n"
     ]
    },
    {
     "name": "stdout",
     "output_type": "stream",
     "text": [
      "5420/5420 [==============================] - 5s 951us/step - loss: 0.1673 - accuracy: 0.9370\n",
      "Epoch 79/150\n",
      "5420/5420 [==============================] - 5s 954us/step - loss: 0.1662 - accuracy: 0.9364\n",
      "Epoch 80/150\n",
      "5420/5420 [==============================] - 5s 955us/step - loss: 0.1654 - accuracy: 0.9372\n",
      "Epoch 81/150\n",
      "5420/5420 [==============================] - 5s 951us/step - loss: 0.1658 - accuracy: 0.9372\n",
      "Epoch 82/150\n",
      "5420/5420 [==============================] - 5s 945us/step - loss: 0.1652 - accuracy: 0.9372\n",
      "Epoch 83/150\n",
      "5420/5420 [==============================] - 5s 940us/step - loss: 0.1639 - accuracy: 0.9376\n",
      "Epoch 84/150\n",
      "5420/5420 [==============================] - 5s 952us/step - loss: 0.1629 - accuracy: 0.9380\n",
      "Epoch 85/150\n",
      "5420/5420 [==============================] - 5s 953us/step - loss: 0.1626 - accuracy: 0.9379\n",
      "Epoch 86/150\n",
      "5420/5420 [==============================] - 5s 948us/step - loss: 0.1628 - accuracy: 0.9381\n",
      "Epoch 87/150\n",
      "5420/5420 [==============================] - 5s 951us/step - loss: 0.1614 - accuracy: 0.9384\n",
      "Epoch 88/150\n",
      "5420/5420 [==============================] - 5s 996us/step - loss: 0.1607 - accuracy: 0.9397\n",
      "Epoch 89/150\n",
      "5420/5420 [==============================] - 5s 972us/step - loss: 0.1609 - accuracy: 0.9392\n",
      "Epoch 90/150\n",
      "5420/5420 [==============================] - 5s 981us/step - loss: 0.1599 - accuracy: 0.9398\n",
      "Epoch 91/150\n",
      "5420/5420 [==============================] - 5s 971us/step - loss: 0.1594 - accuracy: 0.9391\n",
      "Epoch 92/150\n",
      "5420/5420 [==============================] - 5s 977us/step - loss: 0.1584 - accuracy: 0.9410\n",
      "Epoch 93/150\n",
      "5420/5420 [==============================] - 5s 962us/step - loss: 0.1583 - accuracy: 0.9404\n",
      "Epoch 94/150\n",
      "5420/5420 [==============================] - 5s 955us/step - loss: 0.1569 - accuracy: 0.9415\n",
      "Epoch 95/150\n",
      "5420/5420 [==============================] - 5s 983us/step - loss: 0.1577 - accuracy: 0.9412\n",
      "Epoch 96/150\n",
      "5420/5420 [==============================] - 5s 973us/step - loss: 0.1561 - accuracy: 0.9411\n",
      "Epoch 97/150\n",
      "5420/5420 [==============================] - 5s 988us/step - loss: 0.1562 - accuracy: 0.9411\n",
      "Epoch 98/150\n",
      "5420/5420 [==============================] - 5s 984us/step - loss: 0.1549 - accuracy: 0.9418\n",
      "Epoch 99/150\n",
      "5420/5420 [==============================] - 5s 1ms/step - loss: 0.1546 - accuracy: 0.9418\n",
      "Epoch 100/150\n",
      "5420/5420 [==============================] - 5s 975us/step - loss: 0.1535 - accuracy: 0.9422\n",
      "Epoch 101/150\n",
      "5420/5420 [==============================] - 5s 991us/step - loss: 0.1537 - accuracy: 0.9419\n",
      "Epoch 102/150\n",
      "5420/5420 [==============================] - 6s 1ms/step - loss: 0.1542 - accuracy: 0.9418\n",
      "Epoch 103/150\n",
      "5420/5420 [==============================] - 6s 1ms/step - loss: 0.1526 - accuracy: 0.9423\n",
      "Epoch 104/150\n",
      "5420/5420 [==============================] - 6s 1ms/step - loss: 0.1523 - accuracy: 0.9426\n",
      "Epoch 105/150\n",
      "5420/5420 [==============================] - 5s 979us/step - loss: 0.1515 - accuracy: 0.9434\n",
      "Epoch 106/150\n",
      "5420/5420 [==============================] - 6s 1ms/step - loss: 0.1514 - accuracy: 0.9432\n",
      "Epoch 107/150\n",
      "5420/5420 [==============================] - 6s 1ms/step - loss: 0.1512 - accuracy: 0.9436\n",
      "Epoch 108/150\n",
      "5420/5420 [==============================] - 6s 1ms/step - loss: 0.1509 - accuracy: 0.9434\n",
      "Epoch 109/150\n",
      "5420/5420 [==============================] - 6s 1ms/step - loss: 0.1503 - accuracy: 0.9436\n",
      "Epoch 110/150\n",
      "5420/5420 [==============================] - 5s 938us/step - loss: 0.1497 - accuracy: 0.9441\n",
      "Epoch 111/150\n",
      "5420/5420 [==============================] - 5s 958us/step - loss: 0.1497 - accuracy: 0.9439\n",
      "Epoch 112/150\n",
      "5420/5420 [==============================] - 5s 989us/step - loss: 0.1486 - accuracy: 0.9438\n",
      "Epoch 113/150\n",
      "5420/5420 [==============================] - 5s 956us/step - loss: 0.1472 - accuracy: 0.9450\n",
      "Epoch 114/150\n",
      "5420/5420 [==============================] - 5s 988us/step - loss: 0.1477 - accuracy: 0.9441\n",
      "Epoch 115/150\n",
      "5420/5420 [==============================] - 5s 938us/step - loss: 0.1473 - accuracy: 0.9450\n",
      "Epoch 116/150\n",
      "5420/5420 [==============================] - 5s 957us/step - loss: 0.1470 - accuracy: 0.9446\n",
      "Epoch 117/150\n",
      "5420/5420 [==============================] - 5s 1ms/step - loss: 0.1466 - accuracy: 0.9449\n",
      "Epoch 118/150\n",
      "5420/5420 [==============================] - 5s 1ms/step - loss: 0.1451 - accuracy: 0.9456\n",
      "Epoch 119/150\n",
      "5420/5420 [==============================] - 5s 1ms/step - loss: 0.1464 - accuracy: 0.9452\n",
      "Epoch 120/150\n",
      "5420/5420 [==============================] - 5s 975us/step - loss: 0.1446 - accuracy: 0.9459\n",
      "Epoch 121/150\n",
      "5420/5420 [==============================] - 6s 1ms/step - loss: 0.1444 - accuracy: 0.9462\n",
      "Epoch 122/150\n",
      "5420/5420 [==============================] - 5s 990us/step - loss: 0.1448 - accuracy: 0.9458\n",
      "Epoch 123/150\n",
      "5420/5420 [==============================] - 5s 1ms/step - loss: 0.1445 - accuracy: 0.9461\n",
      "Epoch 124/150\n",
      "5420/5420 [==============================] - 6s 1ms/step - loss: 0.1431 - accuracy: 0.9467\n",
      "Epoch 125/150\n",
      "5420/5420 [==============================] - 6s 1ms/step - loss: 0.1429 - accuracy: 0.9464\n",
      "Epoch 126/150\n",
      "5420/5420 [==============================] - 6s 1ms/step - loss: 0.1423 - accuracy: 0.9467\n",
      "Epoch 127/150\n",
      "5420/5420 [==============================] - 5s 1ms/step - loss: 0.1423 - accuracy: 0.9470\n",
      "Epoch 128/150\n",
      "5420/5420 [==============================] - 5s 981us/step - loss: 0.1411 - accuracy: 0.9473\n",
      "Epoch 129/150\n",
      "5420/5420 [==============================] - 5s 968us/step - loss: 0.1419 - accuracy: 0.9471\n",
      "Epoch 130/150\n",
      "5420/5420 [==============================] - 6s 1ms/step - loss: 0.1413 - accuracy: 0.9475\n",
      "Epoch 131/150\n",
      "5420/5420 [==============================] - 6s 1ms/step - loss: 0.1403 - accuracy: 0.9480\n",
      "Epoch 132/150\n",
      "5420/5420 [==============================] - 6s 1ms/step - loss: 0.1399 - accuracy: 0.9473\n",
      "Epoch 133/150\n",
      "5420/5420 [==============================] - 5s 1ms/step - loss: 0.1397 - accuracy: 0.9481\n",
      "Epoch 134/150\n",
      "5420/5420 [==============================] - 6s 1ms/step - loss: 0.1396 - accuracy: 0.9477\n",
      "Epoch 135/150\n",
      "5420/5420 [==============================] - 5s 974us/step - loss: 0.1383 - accuracy: 0.9492\n",
      "Epoch 136/150\n",
      "5420/5420 [==============================] - 5s 970us/step - loss: 0.1389 - accuracy: 0.9485\n",
      "Epoch 137/150\n",
      "5420/5420 [==============================] - 5s 949us/step - loss: 0.1386 - accuracy: 0.9485\n",
      "Epoch 138/150\n",
      "5420/5420 [==============================] - 5s 972us/step - loss: 0.1379 - accuracy: 0.9489\n",
      "Epoch 139/150\n",
      "5420/5420 [==============================] - 5s 950us/step - loss: 0.1377 - accuracy: 0.9487\n",
      "Epoch 140/150\n",
      "5420/5420 [==============================] - 5s 970us/step - loss: 0.1382 - accuracy: 0.9484\n",
      "Epoch 141/150\n",
      "5420/5420 [==============================] - 5s 971us/step - loss: 0.1394 - accuracy: 0.9474\n",
      "Epoch 142/150\n",
      "5420/5420 [==============================] - 5s 979us/step - loss: 0.1370 - accuracy: 0.9491\n",
      "Epoch 143/150\n",
      "5420/5420 [==============================] - 5s 965us/step - loss: 0.1364 - accuracy: 0.9490\n",
      "Epoch 144/150\n",
      "5420/5420 [==============================] - 5s 935us/step - loss: 0.1366 - accuracy: 0.9494\n",
      "Epoch 145/150\n",
      "5420/5420 [==============================] - 5s 945us/step - loss: 0.1359 - accuracy: 0.9496\n",
      "Epoch 146/150\n",
      "5420/5420 [==============================] - 5s 970us/step - loss: 0.1365 - accuracy: 0.9493\n",
      "Epoch 147/150\n",
      "5420/5420 [==============================] - 5s 963us/step - loss: 0.1360 - accuracy: 0.9494\n",
      "Epoch 148/150\n",
      "5420/5420 [==============================] - 5s 963us/step - loss: 0.1351 - accuracy: 0.9499\n",
      "Epoch 149/150\n",
      "5420/5420 [==============================] - 5s 947us/step - loss: 0.1350 - accuracy: 0.9501\n",
      "Epoch 150/150\n",
      "5420/5420 [==============================] - 5s 951us/step - loss: 0.1351 - accuracy: 0.9501\n"
     ]
    }
   ],
   "source": [
    "model.compile(optimizer='adam',loss='binary_crossentropy',metrics=['accuracy'])\n",
    "\n",
    "epochs_hist = model.fit(X_rfe_train,y_train,epochs=150,batch_size=20)"
   ]
  },
  {
   "cell_type": "code",
   "execution_count": 41,
   "id": "f710261b",
   "metadata": {},
   "outputs": [
    {
     "data": {
      "text/plain": [
       "Text(0.5, 1.0, 'Loss and Accuracy plot')"
      ]
     },
     "execution_count": 41,
     "metadata": {},
     "output_type": "execute_result"
    },
    {
     "data": {
      "image/png": "[encoded data removed]",
      "text/plain": [
       "<Figure size 432x288 with 1 Axes>"
      ]
     },
     "metadata": {
      "needs_background": "light"
     },
     "output_type": "display_data"
    }
   ],
   "source": [
    "y_pred=model.predict(X_rfe_test)\n",
    "\n",
    "y_pred = (y_pred>0.5)\n",
    "\n",
    "plt.plot(epochs_hist.history['loss'])\n",
    "plt.plot(epochs_hist.history['accuracy'])\n",
    "plt.xlabel('Epochs')\n",
    "plt.ylabel('percentage')\n",
    "plt.legend(['loss','accuracy'])\n",
    "plt.title('Loss and Accuracy plot')"
   ]
  },
  {
   "cell_type": "code",
   "execution_count": 42,
   "id": "d59cf031",
   "metadata": {},
   "outputs": [
    {
     "name": "stdout",
     "output_type": "stream",
     "text": [
      "              precision    recall  f1-score   support\n",
      "\n",
      "           0       0.94      0.92      0.93     23229\n",
      "           1       0.92      0.94      0.93     23228\n",
      "\n",
      "    accuracy                           0.93     46457\n",
      "   macro avg       0.93      0.93      0.93     46457\n",
      "weighted avg       0.93      0.93      0.93     46457\n",
      "\n"
     ]
    }
   ],
   "source": [
    "print(classification_report(y_test,y_pred))"
   ]
  },
  {
   "cell_type": "code",
   "execution_count": null,
   "id": "13ca4d94",
   "metadata": {},
   "outputs": [],
   "source": []
  }
 ],
 "metadata": {
  "kernelspec": {
   "display_name": "Python 3",
   "language": "python",
   "name": "python3"
  },
  "language_info": {
   "codemirror_mode": {
    "name": "ipython",
    "version": 3
   },
   "file_extension": ".py",
   "mimetype": "text/x-python",
   "name": "python",
   "nbconvert_exporter": "python",
   "pygments_lexer": "ipython3",
   "version": "3.8.8"
  }
 },
 "nbformat": 4,
 "nbformat_minor": 5
}
